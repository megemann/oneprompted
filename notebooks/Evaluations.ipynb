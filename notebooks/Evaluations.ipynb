{
 "cells": [
  {
   "cell_type": "code",
   "execution_count": 9,
   "metadata": {},
   "outputs": [],
   "source": [
    "from google import genai\n",
    "from google.genai import types\n",
    "\n",
    "from IPython.display import HTML, Markdown, display\n",
    "from google.api_core import retry\n",
    "import os\n",
    "# Import environment variables from env.json\n",
    "import json\n",
    "\n",
    "# Load environment variables from env.json\n",
    "with open('../env.json', 'r') as f:\n",
    "    env_vars = json.load(f)\n",
    "\n",
    "# Set environment variables from the loaded file\n",
    "os.environ[\"GOOGLE_CLOUD_PROJECT\"] = env_vars[\"google_cloud_project\"]\n",
    "os.environ[\"GOOGLE_CLOUD_LOCATION\"] = env_vars[\"google_cloud_location\"]\n",
    "os.environ[\"GOOGLE_GENAI_USE_VERTEXAI\"] = env_vars[\"google_genai_use_vertexai\"]\n",
    "# Set the fine-tuned model ID as an environment variable\n",
    "os.environ[\"FINE_TUNED_MODEL_ID\"] = env_vars[\"fine_tuned_model_id\"]\n",
    "os.environ[\"GOOGLE_API_KEY\"] = env_vars[\"google_api_key\"]\n",
    "GOOGLE_API_KEY = os.environ[\"GOOGLE_API_KEY\"]\n",
    "\n",
    "\n",
    "is_retriable = lambda e: (isinstance(e, genai.errors.APIError) and e.code in {429, 503})\n",
    "\n",
    "genai.models.Models.generate_content = retry.Retry(\n",
    "    predicate=is_retriable)(genai.models.Models.generate_content)\n",
    "\n",
    "client = genai.Client(api_key=GOOGLE_API_KEY)"
   ]
  },
  {
   "cell_type": "code",
   "execution_count": 13,
   "metadata": {},
   "outputs": [
    {
     "name": "stdout",
     "output_type": "stream",
     "text": [
      "Available models:\n",
      "models/chat-bison-001\n",
      "models/text-bison-001\n",
      "models/embedding-gecko-001\n",
      "models/gemini-1.0-pro-vision-latest\n",
      "models/gemini-pro-vision\n",
      "models/gemini-1.5-pro-latest\n",
      "models/gemini-1.5-pro-001\n",
      "models/gemini-1.5-pro-002\n",
      "models/gemini-1.5-pro\n",
      "models/gemini-1.5-flash-latest\n",
      "models/gemini-1.5-flash-001\n",
      "models/gemini-1.5-flash-001-tuning\n",
      "models/gemini-1.5-flash\n",
      "models/gemini-1.5-flash-002\n",
      "models/gemini-1.5-flash-8b\n",
      "models/gemini-1.5-flash-8b-001\n",
      "models/gemini-1.5-flash-8b-latest\n",
      "models/gemini-1.5-flash-8b-exp-0827\n",
      "models/gemini-1.5-flash-8b-exp-0924\n",
      "models/gemini-2.5-pro-exp-03-25\n",
      "models/gemini-2.5-pro-preview-03-25\n",
      "models/gemini-2.0-flash-exp\n",
      "models/gemini-2.0-flash\n",
      "models/gemini-2.0-flash-001\n",
      "models/gemini-2.0-flash-exp-image-generation\n",
      "models/gemini-2.0-flash-lite-001\n",
      "models/gemini-2.0-flash-lite\n",
      "models/gemini-2.0-flash-lite-preview-02-05\n",
      "models/gemini-2.0-flash-lite-preview\n",
      "models/gemini-2.0-pro-exp\n",
      "models/gemini-2.0-pro-exp-02-05\n",
      "models/gemini-exp-1206\n",
      "models/gemini-2.0-flash-thinking-exp-01-21\n",
      "models/gemini-2.0-flash-thinking-exp\n",
      "models/gemini-2.0-flash-thinking-exp-1219\n",
      "models/learnlm-1.5-pro-experimental\n",
      "models/gemma-3-1b-it\n",
      "models/gemma-3-4b-it\n",
      "models/gemma-3-12b-it\n",
      "models/gemma-3-27b-it\n",
      "models/embedding-001\n",
      "models/text-embedding-004\n",
      "models/gemini-embedding-exp-03-07\n",
      "models/gemini-embedding-exp\n",
      "models/aqa\n",
      "models/imagen-3.0-generate-002\n",
      "models/veo-2.0-generate-001\n",
      "models/gemini-2.0-flash-live-001\n",
      "Becoming a better team leader is a continuous journey of learning and self-improvement. Here's a breakdown of key areas and actionable tips to help you on that path:\n",
      "\n",
      "**I. Foundational Principles: Leading with Purpose & Integrity**\n",
      "\n",
      "*   **Define Your Vision and Communicate It Clearly:**\n",
      "    *   **Know the \"Why\":** Articulate the team's purpose, goals, and how they contribute to the bigger picture.  People are more motivated when they understand the impact of their work.\n",
      "    *   **Communicate Consistently:**  Use various channels (meetings, emails, informal chats) to reinforce the vision and keep everyone informed of progress and changes.\n",
      "    *   **Make it Accessible:** Ensure the vision and goals are documented and readily available to the team.\n",
      "\n",
      "*   **Lead by Example:**\n",
      "    *   **Demonstrate the Values:**  Uphold the team's and organization's values in your actions and decisions.\n",
      "    *   **Show Commitment:**  Be passionate about the team's goals and willing to put in the effort.\n",
      "    *   **Be Accountable:**  Take responsibility for your actions and decisions, both successes and failures.\n",
      "\n",
      "*   **Integrity and Trust:**\n",
      "    *   **Be Honest and Transparent:**  Communicate openly and honestly, even when it's difficult.\n",
      "    *   **Keep Your Promises:**  Follow through on your commitments to build trust.\n",
      "    *   **Be Fair and Impartial:**  Treat all team members with respect and fairness.  Avoid favoritism.\n",
      "\n",
      "**II. People Management: Building a High-Performing Team**\n",
      "\n",
      "*   **Understanding Your Team:**\n",
      "    *   **Get to Know Your Team Members:**  Learn about their strengths, weaknesses, goals, and motivations.  Have regular one-on-one conversations.\n",
      "    *   **Understand Their Work Styles:**  Recognize that people have different communication preferences, learning styles, and work habits.\n",
      "    *   **Assess Skill Gaps:**  Identify areas where the team needs to develop new skills or knowledge.\n",
      "\n",
      "*   **Effective Communication:**\n",
      "    *   **Active Listening:**  Pay attention to what team members are saying, both verbally and non-verbally. Ask clarifying questions.\n",
      "    *   **Provide Constructive Feedback:**  Give regular, specific, and actionable feedback, focusing on behavior and impact, not personality.  Balance positive reinforcement with areas for improvement.\n",
      "    *   **Encourage Open Dialogue:**  Create a safe space where team members feel comfortable sharing their ideas, concerns, and feedback.\n",
      "    *   **Choose the Right Communication Medium:**  Match the communication method to the message (e.g., face-to-face for sensitive issues, email for routine updates).\n",
      "\n",
      "*   **Delegation and Empowerment:**\n",
      "    *   **Delegate Effectively:**  Assign tasks based on skills, interests, and development opportunities.  Clearly define expectations, provide necessary resources, and grant authority.\n",
      "    *   **Empower Team Members:**  Give them autonomy and decision-making power.  Trust them to do their jobs.\n",
      "    *   **Provide Support:**  Be available to answer questions, offer guidance, and remove obstacles, but avoid micromanaging.\n",
      "\n",
      "*   **Motivation and Recognition:**\n",
      "    *   **Recognize and Reward Achievements:**  Acknowledge and celebrate individual and team successes.\n",
      "    *   **Tailor Motivation:**  Understand what motivates each team member and adjust your approach accordingly.  Some might value public recognition, while others prefer private praise or opportunities for growth.\n",
      "    *   **Provide Opportunities for Growth:**  Offer training, mentoring, and challenging assignments to help team members develop their skills and advance their careers.\n",
      "    *   **Foster a Positive Work Environment:**  Create a team culture that is supportive, collaborative, and fun.\n",
      "\n",
      "*   **Conflict Resolution:**\n",
      "    *   **Address Conflicts Promptly:**  Don't let conflicts fester.  Address them directly and respectfully.\n",
      "    *   **Mediate and Facilitate:**  Help team members find common ground and resolve disagreements constructively.\n",
      "    *   **Focus on Solutions:**  Encourage team members to focus on finding solutions that meet the needs of all parties involved.\n",
      "    *   **Understand the Root Cause:** Dig beneath the surface to understand the underlying issues driving the conflict.\n",
      "\n",
      "**III. Task and Project Management: Getting Things Done Effectively**\n",
      "\n",
      "*   **Planning and Organization:**\n",
      "    *   **Set Clear Goals and Objectives:**  Ensure that goals are SMART (Specific, Measurable, Achievable, Relevant, Time-bound).\n",
      "    *   **Develop Detailed Plans:**  Break down projects into smaller, manageable tasks.\n",
      "    *   **Prioritize Tasks:**  Identify the most important tasks and focus on them first.\n",
      "    *   **Use Project Management Tools:**  Utilize tools like project management software, Kanban boards, or spreadsheets to track progress and manage tasks.\n",
      "\n",
      "*   **Time Management:**\n",
      "    *   **Manage Your Own Time Effectively:**  Prioritize tasks, avoid distractions, and delegate when possible.\n",
      "    *   **Help Team Members Manage Their Time:**  Provide tools and training to help them improve their time management skills.\n",
      "    *   **Set Realistic Deadlines:**  Consider the complexity of the tasks and the availability of resources when setting deadlines.\n",
      "\n",
      "*   **Problem Solving and Decision Making:**\n",
      "    *   **Identify Problems Clearly:**  Define the problem and gather relevant information.\n",
      "    *   **Brainstorm Solutions:**  Encourage team members to generate a variety of potential solutions.\n",
      "    *   **Evaluate Options:**  Weigh the pros and cons of each solution.\n",
      "    *   **Make Informed Decisions:**  Choose the best solution based on the available information and the team's goals.\n",
      "    *   **Involve the Team (When Appropriate):**  Consult with team members when making decisions that affect them. This fosters buy-in and can lead to better solutions.\n",
      "\n",
      "*   **Monitoring and Control:**\n",
      "    *   **Track Progress Regularly:**  Monitor progress against goals and deadlines.\n",
      "    *   **Identify and Address Issues Promptly:**  Take corrective action when problems arise.\n",
      "    *   **Adjust Plans as Needed:**  Be flexible and willing to adjust plans as circumstances change.\n",
      "\n",
      "**IV. Self-Improvement and Continuous Learning**\n",
      "\n",
      "*   **Seek Feedback:**\n",
      "    *   **Ask for Feedback Regularly:**  Solicit feedback from team members, peers, and your manager.\n",
      "    *   **Be Open to Criticism:**  Don't take feedback personally.  Use it as an opportunity to learn and grow.\n",
      "    *   **Act on Feedback:**  Make changes based on the feedback you receive.\n",
      "\n",
      "*   **Reflect on Your Performance:**\n",
      "    *   **Regularly Review Your Actions:**  Reflect on your successes and failures.\n",
      "    *   **Identify Areas for Improvement:**  Identify areas where you can improve your leadership skills.\n",
      "    *   **Learn from Your Mistakes:**  Don't dwell on your mistakes, but learn from them and avoid repeating them.\n",
      "\n",
      "*   **Stay Updated:**\n",
      "    *   **Read Books and Articles on Leadership:**  Stay up-to-date on the latest leadership trends and best practices.\n",
      "    *   **Attend Workshops and Seminars:**  Attend training sessions to develop new leadership skills.\n",
      "    *   **Network with Other Leaders:**  Connect with other leaders to share ideas and learn from their experiences.\n",
      "    *   **Consider Mentorship:**  Both being a mentor and having one can provide valuable learning opportunities.\n",
      "\n",
      "**Specific Actions to Take Right Now:**\n",
      "\n",
      "1.  **Schedule One-on-Ones:**  Schedule regular one-on-one meetings with each team member.\n",
      "2.  **Ask for Feedback:** Send out a short, anonymous survey asking team members for feedback on your leadership.\n",
      "3.  **Reflect on a Recent Project:**  Think about a recent project and identify what went well and what could have been improved from your perspective.\n",
      "4.  **Identify a Skill to Develop:**  Choose one leadership skill you want to improve and create a plan to develop that skill.\n",
      "\n",
      "**Key Qualities of a Good Team Leader:**\n",
      "\n",
      "*   **Empathetic:**  Understands and cares about the needs and feelings of their team members.\n",
      "*   **Communicative:**  Clearly and effectively communicates information and feedback.\n",
      "*   **Decisive:**  Able to make timely and informed decisions.\n",
      "*   **Adaptable:**  Able to adjust to changing circumstances.\n",
      "*   **Resilient:**  Able to bounce back from setbacks.\n",
      "*   **Visionary:**  Able to inspire and motivate others to achieve a common goal.\n",
      "*   **Self-Aware:**  Understands their strengths and weaknesses and is committed to continuous improvement.\n",
      "\n",
      "Becoming a better team leader is a continuous process.  By focusing on these areas and consistently striving to improve, you can build a high-performing, engaged, and successful team.  Good luck!\n",
      "\n"
     ]
    }
   ],
   "source": [
    "import google.generativeai as genai\n",
    "\n",
    "genai.configure(api_key=GOOGLE_API_KEY)\n",
    "\n",
    "# List available models\n",
    "print(\"Available models:\")\n",
    "for m in genai.list_models():\n",
    "    print(m.name)\n",
    "\n",
    "# Use a specific model\n",
    "model = genai.GenerativeModel('gemini-2.0-flash')  # or 'gemini-pro-vision' for images\n",
    "\n",
    "# Generate content\n",
    "response = model.generate_content(\"How can I be a better team leader?\")\n",
    "print(response.text)\n"
   ]
  },
  {
   "cell_type": "code",
   "execution_count": 29,
   "metadata": {},
   "outputs": [
    {
     "name": "stdout",
     "output_type": "stream",
     "text": [
      "Imagine you're talking to a 7-year-old child. Explain Artificial Intelligence (AI) in simple terms, using analogies and examples a child can easily understand. Break down complex concepts into bite-sized pieces. Explain what AI can do, provide three kid-friendly examples of AI in action (e.g., a robot that plays games, a smart toy, or a voice assistant). Avoid technical jargon. Your response should be no more than 200 words and formatted as a numbered list.\n",
      "\n"
     ]
    }
   ],
   "source": [
    "client = genai.Client(api_key=GOOGLE_API_KEY)\n",
    "\n",
    "def generate_response(prompt):\n",
    "    inputs = f'''You are a prompt engineering expert that transforms simple \n",
    "    prompts into more effective versions. Analyze the input prompt and create\n",
    "      an improved version that includes specific details, context, desired output format, \n",
    "      and any relevant constraints. Make the prompt clear, specific, and designed to \n",
    "      generate high-quality responses.\n",
    "      \n",
    "      Input Prompt: {prompt}\n",
    "\n",
    "      Respond ONLY with the text of the improved prompt, without any explanations, \n",
    "      introductions, or additional commentary.\n",
    "      '''\n",
    "\n",
    "    return client.models.generate_content(\n",
    "        model=model,\n",
    "        contents=inputs).text\n",
    "\n",
    "print(generate_response('Explain AI to me like im a little kid'))"
   ]
  },
  {
   "cell_type": "code",
   "execution_count": 32,
   "metadata": {},
   "outputs": [
    {
     "name": "stdout",
     "output_type": "stream",
     "text": [
      "Dataset loaded successfully with 1000 rows\n",
      "\n",
      "Dataset columns:\n",
      "- original_id\n",
      "- original_prompt\n",
      "- context\n",
      "- prompt\n",
      "\n",
      "First 5 rows of the dataset:\n"
     ]
    },
    {
     "data": {
      "text/html": [
       "<div>\n",
       "<style scoped>\n",
       "    .dataframe tbody tr th:only-of-type {\n",
       "        vertical-align: middle;\n",
       "    }\n",
       "\n",
       "    .dataframe tbody tr th {\n",
       "        vertical-align: top;\n",
       "    }\n",
       "\n",
       "    .dataframe thead th {\n",
       "        text-align: right;\n",
       "    }\n",
       "</style>\n",
       "<table border=\"1\" class=\"dataframe\">\n",
       "  <thead>\n",
       "    <tr style=\"text-align: right;\">\n",
       "      <th></th>\n",
       "      <th>original_id</th>\n",
       "      <th>original_prompt</th>\n",
       "      <th>context</th>\n",
       "      <th>prompt</th>\n",
       "    </tr>\n",
       "  </thead>\n",
       "  <tbody>\n",
       "    <tr>\n",
       "      <th>0</th>\n",
       "      <td>140731</td>\n",
       "      <td>One-pot vegetarian pasta recipes for busy nights</td>\n",
       "      <td>NaN</td>\n",
       "      <td>One-pot vegetarian pasta recipes for busy nights</td>\n",
       "    </tr>\n",
       "    <tr>\n",
       "      <th>1</th>\n",
       "      <td>121053</td>\n",
       "      <td>We have the following blog content... what is ...</td>\n",
       "      <td>NaN</td>\n",
       "      <td>We have the following blog content... what is ...</td>\n",
       "    </tr>\n",
       "    <tr>\n",
       "      <th>2</th>\n",
       "      <td>37805</td>\n",
       "      <td>how o sort element using merge sort technique ...</td>\n",
       "      <td>NaN</td>\n",
       "      <td>how o sort element using merge sort technique ...</td>\n",
       "    </tr>\n",
       "    <tr>\n",
       "      <th>3</th>\n",
       "      <td>116016</td>\n",
       "      <td>make a javascript class \"GraphicLayer\" which i...</td>\n",
       "      <td>NaN</td>\n",
       "      <td>make a javascript class \"GraphicLayer\" which i...</td>\n",
       "    </tr>\n",
       "    <tr>\n",
       "      <th>4</th>\n",
       "      <td>132819</td>\n",
       "      <td>!Please outline the steps to build an automate...</td>\n",
       "      <td>NaN</td>\n",
       "      <td>Please outline the steps to build an automated...</td>\n",
       "    </tr>\n",
       "  </tbody>\n",
       "</table>\n",
       "</div>"
      ],
      "text/plain": [
       "   original_id                                    original_prompt context  \\\n",
       "0       140731   One-pot vegetarian pasta recipes for busy nights     NaN   \n",
       "1       121053  We have the following blog content... what is ...     NaN   \n",
       "2        37805  how o sort element using merge sort technique ...     NaN   \n",
       "3       116016  make a javascript class \"GraphicLayer\" which i...     NaN   \n",
       "4       132819  !Please outline the steps to build an automate...     NaN   \n",
       "\n",
       "                                              prompt  \n",
       "0   One-pot vegetarian pasta recipes for busy nights  \n",
       "1  We have the following blog content... what is ...  \n",
       "2  how o sort element using merge sort technique ...  \n",
       "3  make a javascript class \"GraphicLayer\" which i...  \n",
       "4  Please outline the steps to build an automated...  "
      ]
     },
     "metadata": {},
     "output_type": "display_data"
    }
   ],
   "source": [
    "import pandas as pd\n",
    "\n",
    "# Load the ShareGPT dataset from CSV\n",
    "try:\n",
    "    # Define the path to the CSV file\n",
    "    csv_path = \"../data/ShareGPT/separated_prompts_clean.csv\"\n",
    "    \n",
    "    # Load the CSV file into a pandas DataFrame\n",
    "    df_sharegpt = pd.read_csv(csv_path)\n",
    "    \n",
    "    # Display basic information about the dataset\n",
    "    print(f\"Dataset loaded successfully with {len(df_sharegpt)} rows\")\n",
    "    print(\"\\nDataset columns:\")\n",
    "    for col in df_sharegpt.columns:\n",
    "        print(f\"- {col}\")\n",
    "    \n",
    "    # Display the first few rows of the dataset\n",
    "    print(\"\\nFirst 5 rows of the dataset:\")\n",
    "    display(df_sharegpt.head())\n",
    "\n",
    "    df_sharegpt.drop(columns=['context', 'prompt'], inplace=True)\n",
    "    \n",
    "except FileNotFoundError:\n",
    "    print(f\"Error: The file at '../data/ShareGPT/separated_prompts_clean.csv' was not found.\")\n",
    "except Exception as e:\n",
    "    print(f\"An error occurred while loading the dataset: {str(e)}\")\n",
    "    \n"
   ]
  },
  {
   "cell_type": "code",
   "execution_count": 34,
   "metadata": {},
   "outputs": [
    {
     "name": "stdout",
     "output_type": "stream",
     "text": [
      "Generating improved prompts for each original prompt...\n"
     ]
    },
    {
     "name": "stderr",
     "output_type": "stream",
     "text": [
      "Processing prompts:  10%|█         | 101/1000 [03:43<35:57,  2.40s/it] "
     ]
    },
    {
     "name": "stdout",
     "output_type": "stream",
     "text": [
      "Processed 100 rows. Saving batch 1...\n"
     ]
    },
    {
     "name": "stderr",
     "output_type": "stream",
     "text": [
      "Processing prompts:  20%|██        | 201/1000 [07:47<22:11,  1.67s/it]  "
     ]
    },
    {
     "name": "stdout",
     "output_type": "stream",
     "text": [
      "Processed 200 rows. Saving batch 2...\n"
     ]
    },
    {
     "name": "stderr",
     "output_type": "stream",
     "text": [
      "Processing prompts:  30%|███       | 301/1000 [11:23<23:35,  2.02s/it]"
     ]
    },
    {
     "name": "stdout",
     "output_type": "stream",
     "text": [
      "Processed 300 rows. Saving batch 3...\n"
     ]
    },
    {
     "name": "stderr",
     "output_type": "stream",
     "text": [
      "Processing prompts:  40%|████      | 401/1000 [15:21<22:50,  2.29s/it]"
     ]
    },
    {
     "name": "stdout",
     "output_type": "stream",
     "text": [
      "Processed 400 rows. Saving batch 4...\n"
     ]
    },
    {
     "name": "stderr",
     "output_type": "stream",
     "text": [
      "Processing prompts:  50%|█████     | 501/1000 [18:59<19:46,  2.38s/it]"
     ]
    },
    {
     "name": "stdout",
     "output_type": "stream",
     "text": [
      "Processed 500 rows. Saving batch 5...\n"
     ]
    },
    {
     "name": "stderr",
     "output_type": "stream",
     "text": [
      "Processing prompts:  60%|██████    | 601/1000 [22:28<12:49,  1.93s/it]"
     ]
    },
    {
     "name": "stdout",
     "output_type": "stream",
     "text": [
      "Processed 600 rows. Saving batch 6...\n"
     ]
    },
    {
     "name": "stderr",
     "output_type": "stream",
     "text": [
      "Processing prompts:  70%|███████   | 701/1000 [26:08<06:39,  1.34s/it]"
     ]
    },
    {
     "name": "stdout",
     "output_type": "stream",
     "text": [
      "Processed 700 rows. Saving batch 7...\n"
     ]
    },
    {
     "name": "stderr",
     "output_type": "stream",
     "text": [
      "Processing prompts:  80%|████████  | 801/1000 [30:12<07:08,  2.15s/it]"
     ]
    },
    {
     "name": "stdout",
     "output_type": "stream",
     "text": [
      "Processed 800 rows. Saving batch 8...\n"
     ]
    },
    {
     "name": "stderr",
     "output_type": "stream",
     "text": [
      "Processing prompts:  90%|█████████ | 901/1000 [34:05<04:50,  2.93s/it]"
     ]
    },
    {
     "name": "stdout",
     "output_type": "stream",
     "text": [
      "Processed 900 rows. Saving batch 9...\n"
     ]
    },
    {
     "name": "stderr",
     "output_type": "stream",
     "text": [
      "Processing prompts: 100%|██████████| 1000/1000 [38:01<00:00,  2.28s/it]"
     ]
    },
    {
     "name": "stdout",
     "output_type": "stream",
     "text": [
      "Processed 1000 rows. Saving batch 10...\n",
      "Completed generating 1000 improved prompts\n",
      "Final results saved to ../data/Flash2.0Responses/all_responses.csv\n",
      "\n",
      "Sample of results:\n"
     ]
    },
    {
     "name": "stderr",
     "output_type": "stream",
     "text": [
      "\n"
     ]
    },
    {
     "data": {
      "text/html": [
       "<div>\n",
       "<style scoped>\n",
       "    .dataframe tbody tr th:only-of-type {\n",
       "        vertical-align: middle;\n",
       "    }\n",
       "\n",
       "    .dataframe tbody tr th {\n",
       "        vertical-align: top;\n",
       "    }\n",
       "\n",
       "    .dataframe thead th {\n",
       "        text-align: right;\n",
       "    }\n",
       "</style>\n",
       "<table border=\"1\" class=\"dataframe\">\n",
       "  <thead>\n",
       "    <tr style=\"text-align: right;\">\n",
       "      <th></th>\n",
       "      <th>original_prompt</th>\n",
       "      <th>base_response</th>\n",
       "    </tr>\n",
       "  </thead>\n",
       "  <tbody>\n",
       "    <tr>\n",
       "      <th>0</th>\n",
       "      <td>One-pot vegetarian pasta recipes for busy nights</td>\n",
       "      <td>Write five unique one-pot vegetarian pasta rec...</td>\n",
       "    </tr>\n",
       "    <tr>\n",
       "      <th>1</th>\n",
       "      <td>We have the following blog content... what is ...</td>\n",
       "      <td>Analyze the provided blog content from GigSala...</td>\n",
       "    </tr>\n",
       "    <tr>\n",
       "      <th>2</th>\n",
       "      <td>how o sort element using merge sort technique ...</td>\n",
       "      <td>Write a Java program that implements the Merge...</td>\n",
       "    </tr>\n",
       "  </tbody>\n",
       "</table>\n",
       "</div>"
      ],
      "text/plain": [
       "                                     original_prompt  \\\n",
       "0   One-pot vegetarian pasta recipes for busy nights   \n",
       "1  We have the following blog content... what is ...   \n",
       "2  how o sort element using merge sort technique ...   \n",
       "\n",
       "                                       base_response  \n",
       "0  Write five unique one-pot vegetarian pasta rec...  \n",
       "1  Analyze the provided blog content from GigSala...  \n",
       "2  Write a Java program that implements the Merge...  "
      ]
     },
     "metadata": {},
     "output_type": "display_data"
    }
   ],
   "source": [
    "# Apply the generate_response function to each original_prompt in the dataframe\n",
    "# This will create a new column 'base_response' with the improved prompts\n",
    "print(\"Generating improved prompts for each original prompt...\")\n",
    "\n",
    "# Import tqdm for progress bar\n",
    "from tqdm import tqdm\n",
    "\n",
    "# Define a function to safely apply generate_response\n",
    "def safe_generate_response(prompt):\n",
    "    try:\n",
    "        return generate_response(prompt)\n",
    "    except Exception as e:\n",
    "        print(f\"Error processing prompt: {str(e)[:100]}...\")\n",
    "        return \"Error generating response\"\n",
    "\n",
    "# Create directory if it doesn't exist\n",
    "import os\n",
    "os.makedirs(\"../data/Flash2.0Responses\", exist_ok=True)\n",
    "\n",
    "# Initialize counter for saving\n",
    "counter = [0]\n",
    "total_rows = len(df_sharegpt)\n",
    "\n",
    "# Define a function to process each row and save every 100 rows\n",
    "def process_and_save(prompt):\n",
    "    response = safe_generate_response(prompt)\n",
    "    counter[0] += 1\n",
    "    \n",
    "    # Save every 100 rows\n",
    "    if counter[0] % 100 == 0:\n",
    "        batch_num = counter[0] // 100\n",
    "        print(f\"Processed {counter[0]} rows. Saving batch {batch_num}...\")\n",
    "        df_sharegpt.to_csv(f\"../data/Flash2.0Responses/responses_batch_{batch_num}.csv\", index=False)\n",
    "    \n",
    "    return response\n",
    "\n",
    "# Apply the function to each row in the dataframe with tqdm progress bar\n",
    "tqdm.pandas(desc=\"Processing prompts\")\n",
    "df_sharegpt['base_response'] = df_sharegpt['original_prompt'].progress_apply(process_and_save)\n",
    "\n",
    "# Save the final complete dataset\n",
    "df_sharegpt.to_csv(\"../data/Flash2.0Responses/all_responses.csv\", index=False)\n",
    "print(f\"Completed generating {total_rows} improved prompts\")\n",
    "print(f\"Final results saved to ../data/Flash2.0Responses/all_responses.csv\")\n",
    "\n",
    "print(\"\\nSample of results:\")\n",
    "display(df_sharegpt[['original_prompt', 'base_response']].head(3))\n"
   ]
  },
  {
   "cell_type": "code",
   "execution_count": null,
   "metadata": {},
   "outputs": [
    {
     "name": "stdout",
     "output_type": "stream",
     "text": [
      "Here are some common challenges faced by team leaders and potential solutions. First, consider the challenge of low team morale. What are three specific strategies a team leader could implement to improve morale? Then, consider the challenge of poor communication within the team. What are three concrete steps a team leader could take to enhance communication effectiveness? Finally, consider the challenge of conflict resolution. What are three techniques a team leader could utilize to effectively resolve conflicts within the team? Explain your reasoning for each strategy and technique.\n"
     ]
    }
   ],
   "source": [
    "import os\n",
    "from google import genai\n",
    "from google.genai.types import HttpOptions\n",
    "\n",
    "\n",
    "\n",
    "# Access the model ID from environment variables\n",
    "fine_tuned_model_id = os.environ[\"FINE_TUNED_MODEL_ID\"]\n",
    "\n",
    "\n",
    "# Initialize the GenAI client for Vertex AI\n",
    "client = genai.Client(http_options=HttpOptions(api_version=\"v1\"))\n",
    "\n",
    "# Define your prompt\n",
    "prompt = \"How can I be a better team leader?\"\n",
    "\n",
    "# Call your fine-tuned model\n",
    "response = client.models.generate_content(\n",
    "    model=fine_tuned_model_id,\n",
    "    contents=prompt,\n",
    ")\n",
    "\n",
    "# Print the response\n",
    "print(response.text)\n"
   ]
  },
  {
   "cell_type": "code",
   "execution_count": 3,
   "metadata": {},
   "outputs": [],
   "source": [
    "#works with no context, but you can do with context too\n",
    "def generate_response(prompt):\n",
    "    inputs = f'''You are a prompt engineering expert that transforms simple \n",
    "    prompts into more effective versions. Analyze the input prompt and create\n",
    "      an improved version that includes specific details, context, desired output format, \n",
    "      and any relevant constraints. Make the prompt clear, specific, and designed to \n",
    "      generate high-quality responses.\n",
    "      \n",
    "      Input Prompt: {prompt}\n",
    "\n",
    "      Respond ONLY with the text of the improved prompt, without any explanations, \n",
    "      introductions, or additional commentary.\n",
    "      '''\n",
    "\n",
    "    return client.models.generate_content(\n",
    "        model=fine_tuned_model_id,\n",
    "        contents=inputs).text"
   ]
  },
  {
   "cell_type": "code",
   "execution_count": 4,
   "metadata": {},
   "outputs": [
    {
     "name": "stdout",
     "output_type": "stream",
     "text": [
      "Dataset loaded successfully with 1000 rows\n",
      "\n",
      "Dataset columns:\n",
      "- original_id\n",
      "- original_prompt\n",
      "- context\n",
      "- prompt\n",
      "\n",
      "First 5 rows of the dataset:\n"
     ]
    },
    {
     "data": {
      "text/html": [
       "<div>\n",
       "<style scoped>\n",
       "    .dataframe tbody tr th:only-of-type {\n",
       "        vertical-align: middle;\n",
       "    }\n",
       "\n",
       "    .dataframe tbody tr th {\n",
       "        vertical-align: top;\n",
       "    }\n",
       "\n",
       "    .dataframe thead th {\n",
       "        text-align: right;\n",
       "    }\n",
       "</style>\n",
       "<table border=\"1\" class=\"dataframe\">\n",
       "  <thead>\n",
       "    <tr style=\"text-align: right;\">\n",
       "      <th></th>\n",
       "      <th>original_id</th>\n",
       "      <th>original_prompt</th>\n",
       "      <th>context</th>\n",
       "      <th>prompt</th>\n",
       "    </tr>\n",
       "  </thead>\n",
       "  <tbody>\n",
       "    <tr>\n",
       "      <th>0</th>\n",
       "      <td>140731</td>\n",
       "      <td>One-pot vegetarian pasta recipes for busy nights</td>\n",
       "      <td>NaN</td>\n",
       "      <td>One-pot vegetarian pasta recipes for busy nights</td>\n",
       "    </tr>\n",
       "    <tr>\n",
       "      <th>1</th>\n",
       "      <td>121053</td>\n",
       "      <td>We have the following blog content... what is ...</td>\n",
       "      <td>NaN</td>\n",
       "      <td>We have the following blog content... what is ...</td>\n",
       "    </tr>\n",
       "    <tr>\n",
       "      <th>2</th>\n",
       "      <td>37805</td>\n",
       "      <td>how o sort element using merge sort technique ...</td>\n",
       "      <td>NaN</td>\n",
       "      <td>how o sort element using merge sort technique ...</td>\n",
       "    </tr>\n",
       "    <tr>\n",
       "      <th>3</th>\n",
       "      <td>116016</td>\n",
       "      <td>make a javascript class \"GraphicLayer\" which i...</td>\n",
       "      <td>NaN</td>\n",
       "      <td>make a javascript class \"GraphicLayer\" which i...</td>\n",
       "    </tr>\n",
       "    <tr>\n",
       "      <th>4</th>\n",
       "      <td>132819</td>\n",
       "      <td>!Please outline the steps to build an automate...</td>\n",
       "      <td>NaN</td>\n",
       "      <td>Please outline the steps to build an automated...</td>\n",
       "    </tr>\n",
       "  </tbody>\n",
       "</table>\n",
       "</div>"
      ],
      "text/plain": [
       "   original_id                                    original_prompt context  \\\n",
       "0       140731   One-pot vegetarian pasta recipes for busy nights     NaN   \n",
       "1       121053  We have the following blog content... what is ...     NaN   \n",
       "2        37805  how o sort element using merge sort technique ...     NaN   \n",
       "3       116016  make a javascript class \"GraphicLayer\" which i...     NaN   \n",
       "4       132819  !Please outline the steps to build an automate...     NaN   \n",
       "\n",
       "                                              prompt  \n",
       "0   One-pot vegetarian pasta recipes for busy nights  \n",
       "1  We have the following blog content... what is ...  \n",
       "2  how o sort element using merge sort technique ...  \n",
       "3  make a javascript class \"GraphicLayer\" which i...  \n",
       "4  Please outline the steps to build an automated...  "
      ]
     },
     "metadata": {},
     "output_type": "display_data"
    }
   ],
   "source": [
    "import pandas as pd\n",
    "\n",
    "# Load the ShareGPT dataset from CSV\n",
    "try:\n",
    "    # Define the path to the CSV file\n",
    "    csv_path = \"../data/ShareGPT/separated_prompts_clean.csv\"\n",
    "    \n",
    "    # Load the CSV file into a pandas DataFrame\n",
    "    df_sharegpt = pd.read_csv(csv_path)\n",
    "    \n",
    "    # Display basic information about the dataset\n",
    "    print(f\"Dataset loaded successfully with {len(df_sharegpt)} rows\")\n",
    "    print(\"\\nDataset columns:\")\n",
    "    for col in df_sharegpt.columns:\n",
    "        print(f\"- {col}\")\n",
    "    \n",
    "    # Display the first few rows of the dataset\n",
    "    print(\"\\nFirst 5 rows of the dataset:\")\n",
    "    display(df_sharegpt.head())\n",
    "\n",
    "    df_sharegpt.drop(columns=['context', 'prompt'], inplace=True)\n",
    "    \n",
    "except FileNotFoundError:\n",
    "    print(f\"Error: The file at '../data/ShareGPT/separated_prompts_clean.csv' was not found.\")\n",
    "except Exception as e:\n",
    "    print(f\"An error occurred while loading the dataset: {str(e)}\")\n",
    "    "
   ]
  },
  {
   "cell_type": "code",
   "execution_count": 7,
   "metadata": {},
   "outputs": [
    {
     "name": "stdout",
     "output_type": "stream",
     "text": [
      "Generating improved prompts for each original prompt...\n"
     ]
    },
    {
     "name": "stderr",
     "output_type": "stream",
     "text": [
      "Processing prompts:  10%|█         | 101/1000 [03:31<38:16,  2.55s/it]"
     ]
    },
    {
     "name": "stdout",
     "output_type": "stream",
     "text": [
      "Processed 100 rows. Saving batch 1...\n"
     ]
    },
    {
     "name": "stderr",
     "output_type": "stream",
     "text": [
      "Processing prompts:  20%|██        | 201/1000 [06:10<22:23,  1.68s/it]"
     ]
    },
    {
     "name": "stdout",
     "output_type": "stream",
     "text": [
      "Processed 200 rows. Saving batch 2...\n"
     ]
    },
    {
     "name": "stderr",
     "output_type": "stream",
     "text": [
      "Processing prompts:  30%|███       | 301/1000 [08:42<17:58,  1.54s/it]"
     ]
    },
    {
     "name": "stdout",
     "output_type": "stream",
     "text": [
      "Processed 300 rows. Saving batch 3...\n"
     ]
    },
    {
     "name": "stderr",
     "output_type": "stream",
     "text": [
      "Processing prompts:  40%|████      | 401/1000 [11:31<19:23,  1.94s/it]"
     ]
    },
    {
     "name": "stdout",
     "output_type": "stream",
     "text": [
      "Processed 400 rows. Saving batch 4...\n"
     ]
    },
    {
     "name": "stderr",
     "output_type": "stream",
     "text": [
      "Processing prompts:  50%|█████     | 501/1000 [14:01<12:17,  1.48s/it]"
     ]
    },
    {
     "name": "stdout",
     "output_type": "stream",
     "text": [
      "Processed 500 rows. Saving batch 5...\n"
     ]
    },
    {
     "name": "stderr",
     "output_type": "stream",
     "text": [
      "Processing prompts:  60%|██████    | 601/1000 [16:46<10:35,  1.59s/it]"
     ]
    },
    {
     "name": "stdout",
     "output_type": "stream",
     "text": [
      "Processed 600 rows. Saving batch 6...\n"
     ]
    },
    {
     "name": "stderr",
     "output_type": "stream",
     "text": [
      "Processing prompts:  70%|███████   | 701/1000 [19:11<08:09,  1.64s/it]"
     ]
    },
    {
     "name": "stdout",
     "output_type": "stream",
     "text": [
      "Processed 700 rows. Saving batch 7...\n"
     ]
    },
    {
     "name": "stderr",
     "output_type": "stream",
     "text": [
      "Processing prompts:  80%|████████  | 801/1000 [21:56<04:41,  1.41s/it]"
     ]
    },
    {
     "name": "stdout",
     "output_type": "stream",
     "text": [
      "Processed 800 rows. Saving batch 8...\n"
     ]
    },
    {
     "name": "stderr",
     "output_type": "stream",
     "text": [
      "Processing prompts:  90%|█████████ | 901/1000 [24:29<03:01,  1.83s/it]"
     ]
    },
    {
     "name": "stdout",
     "output_type": "stream",
     "text": [
      "Processed 900 rows. Saving batch 9...\n"
     ]
    },
    {
     "name": "stderr",
     "output_type": "stream",
     "text": [
      "Processing prompts: 100%|██████████| 1000/1000 [27:00<00:00,  1.62s/it]"
     ]
    },
    {
     "name": "stdout",
     "output_type": "stream",
     "text": [
      "Processed 1000 rows. Saving batch 10...\n",
      "Completed generating 1000 improved prompts\n",
      "Final results saved to ../data/FineTunedResponses/all_responses.csv\n",
      "\n",
      "Sample of results:\n"
     ]
    },
    {
     "name": "stderr",
     "output_type": "stream",
     "text": [
      "\n"
     ]
    },
    {
     "data": {
      "text/html": [
       "<div>\n",
       "<style scoped>\n",
       "    .dataframe tbody tr th:only-of-type {\n",
       "        vertical-align: middle;\n",
       "    }\n",
       "\n",
       "    .dataframe tbody tr th {\n",
       "        vertical-align: top;\n",
       "    }\n",
       "\n",
       "    .dataframe thead th {\n",
       "        text-align: right;\n",
       "    }\n",
       "</style>\n",
       "<table border=\"1\" class=\"dataframe\">\n",
       "  <thead>\n",
       "    <tr style=\"text-align: right;\">\n",
       "      <th></th>\n",
       "      <th>original_prompt</th>\n",
       "      <th>fine_tuned_response</th>\n",
       "    </tr>\n",
       "  </thead>\n",
       "  <tbody>\n",
       "    <tr>\n",
       "      <th>0</th>\n",
       "      <td>One-pot vegetarian pasta recipes for busy nights</td>\n",
       "      <td>Here are two examples of one-pot pasta recipes...</td>\n",
       "    </tr>\n",
       "    <tr>\n",
       "      <th>1</th>\n",
       "      <td>We have the following blog content... what is ...</td>\n",
       "      <td>Here is an example of blog content and the cor...</td>\n",
       "    </tr>\n",
       "    <tr>\n",
       "      <th>2</th>\n",
       "      <td>how o sort element using merge sort technique ...</td>\n",
       "      <td>You are a Java programming assistant. I need y...</td>\n",
       "    </tr>\n",
       "  </tbody>\n",
       "</table>\n",
       "</div>"
      ],
      "text/plain": [
       "                                     original_prompt  \\\n",
       "0   One-pot vegetarian pasta recipes for busy nights   \n",
       "1  We have the following blog content... what is ...   \n",
       "2  how o sort element using merge sort technique ...   \n",
       "\n",
       "                                 fine_tuned_response  \n",
       "0  Here are two examples of one-pot pasta recipes...  \n",
       "1  Here is an example of blog content and the cor...  \n",
       "2  You are a Java programming assistant. I need y...  "
      ]
     },
     "metadata": {},
     "output_type": "display_data"
    }
   ],
   "source": [
    "# Apply the generate_response function to each original_prompt in the dataframe\n",
    "# This will create a new column 'base_response' with the improved prompts\n",
    "print(\"Generating improved prompts for each original prompt...\")\n",
    "\n",
    "# Import tqdm for progress bar\n",
    "from tqdm import tqdm\n",
    "\n",
    "# Define a function to safely apply generate_response\n",
    "def safe_generate_response(prompt):\n",
    "    try:\n",
    "        return generate_response(prompt)\n",
    "    except Exception as e:\n",
    "        print(f\"Error processing prompt: {str(e)[:100]}...\")\n",
    "        return \"Error generating response\"\n",
    "\n",
    "# Create directory if it doesn't exist\n",
    "import os\n",
    "os.makedirs(\"../data/FineTunedResponses\", exist_ok=True)\n",
    "\n",
    "# Initialize counter for saving\n",
    "counter = [0]\n",
    "total_rows = len(df_sharegpt)\n",
    "\n",
    "# Define a function to process each row and save every 100 rows\n",
    "def process_and_save(prompt):\n",
    "    response = safe_generate_response(prompt)\n",
    "    counter[0] += 1\n",
    "    \n",
    "    # Save every 100 rows\n",
    "    if counter[0] % 100 == 0:\n",
    "        batch_num = counter[0] // 100\n",
    "        print(f\"Processed {counter[0]} rows. Saving batch {batch_num}...\")\n",
    "        df_sharegpt.to_csv(f\"../data/FineTunedResponses/responses_batch_{batch_num}.csv\", index=False)\n",
    "    \n",
    "    return response\n",
    "\n",
    "# Apply the function to each row in the dataframe with tqdm progress bar\n",
    "tqdm.pandas(desc=\"Processing prompts\")\n",
    "df_sharegpt['fine_tuned_response'] = df_sharegpt['original_prompt'].progress_apply(process_and_save)\n",
    "\n",
    "# Save the final complete dataset\n",
    "df_sharegpt.to_csv(\"../data/FineTunedResponses/all_responses.csv\", index=False)\n",
    "print(f\"Completed generating {total_rows} improved prompts\")\n",
    "print(f\"Final results saved to ../data/FineTunedResponses/all_responses.csv\")\n",
    "\n",
    "print(\"\\nSample of results:\")\n",
    "display(df_sharegpt[['original_prompt', 'fine_tuned_response']].head(3))\n"
   ]
  },
  {
   "cell_type": "code",
   "execution_count": 6,
   "metadata": {},
   "outputs": [
    {
     "name": "stdout",
     "output_type": "stream",
     "text": [
      "One-pot vegetarian pasta recipes for busy nights\n",
      "Here are a few examples of one-pot pasta recipes and the structure I want you to follow:\n",
      "\n",
      "Recipe 1: Creamy Tomato Basil Pasta\n",
      "Ingredients: Pasta, canned tomatoes, basil, cream, garlic\n",
      "Instructions: Cook pasta according to package directions. Add tomatoes, basil, and garlic. Simmer for 10 minutes. Stir in cream and serve.\n",
      "\n",
      "Recipe 2: One-Pot Lemon Herb Pasta\n",
      "Ingredients: Pasta, vegetable broth, lemon, herbs, Parmesan cheese\n",
      "Instructions: Cook pasta in vegetable broth. Add lemon juice, herbs, and Parmesan cheese. Simmer until pasta is cooked and broth is absorbed.\n",
      "\n",
      "Now, write a one-pot vegetarian pasta recipe using ingredients like zucchini, cherry tomatoes, and pesto. Include ingredients and step-by-step instructions. Use a clear and concise writing style.\n"
     ]
    }
   ],
   "source": [
    "print(df_sharegpt['original_prompt'].iloc[0])\n",
    "\n",
    "print(generate_response(df_sharegpt['original_prompt'].iloc[0]))"
   ]
  },
  {
   "cell_type": "code",
   "execution_count": 9,
   "metadata": {},
   "outputs": [
    {
     "name": "stdout",
     "output_type": "stream",
     "text": [
      "\n",
      "Random examples of prompts and their fine-tuned responses:\n",
      "\n",
      "--- Example 654 ---\n",
      "Original Prompt:\n",
      "write code for a user script to set up a aws ec2 instance to create a web server running a react application with a python and django backend\n",
      "\n",
      "Fine-tuned Response:\n",
      "Here's an example of how an EC2 instance is set up for a web server:\n",
      "\n",
      "Prompt: Write a bash script to launch an EC2 instance with the following configurations:\n",
      "- AMI: amazonlinuxlatest\n",
      "- Instance Type: t2.micro\n",
      "- Security Group: Allow HTTP and SSH access.\n",
      "- Install Nginx.\n",
      "- Deploy a sample 'Hello World' HTML page in the document root.\n",
      "\n",
      "Now, write a bash script to launch an EC2 instance with the following configurations:\n",
      "- AMI: amazonlinuxlatest\n",
      "- Instance Type: t2.micro\n",
      "- Security Group: Allow HTTP (port 80), HTTPS (port 443), and SSH (port 22) access.\n",
      "- Install Docker.\n",
      "- Pull a pre-built Docker image of a Django backend (replace 'your_django_image:latest') and run it as a container.\n",
      "- Pull a pre-built Docker image of a React frontend (replace 'your_react_image:latest') and run it as a container.\n",
      "- Configure Nginx to proxy requests to the Django backend and React frontend containers.\n",
      "- Set up SSL with Let's Encrypt for HTTPS.\n",
      "\n",
      "Provide the complete script, ready to be executed on a new EC2 instance. Also, provide the necessary Dockerfiles for the Django backend and React frontend, including any necessary configuration files for Nginx. Ensure the backend and frontend containers can communicate with each other. Also, ensure that Let's Encrypt certificates are automatically renewed.\n",
      "--------------------------------------------------------------------------------\n",
      "\n",
      "--- Example 114 ---\n",
      "Original Prompt:\n",
      "You are a very good copy editor. Please take the following and improve its organisation, phrasing and grammar.\n",
      "\n",
      "___\n",
      "\n",
      "Noam Chomsky argues in an article in the New York Times 8-March-2023 \"The False Promise of ChatGPT\" that AI cannot think. \n",
      "\n",
      "Noam Chomsky says of the current examples of Artificial\n",
      "General Intelligence such as ChatGPT that they do not think. His\n",
      "conclusion might be wrong, it might be right, but his reasoning is\n",
      "faulty.\n",
      "\n",
      "Essentially Chomsky argues using circular reasoning what humans do\n",
      "is thinking, and what machines do is not. His justification gives\n",
      "exceptionalism a bad name!  He arrogantly defines all that humans do\n",
      "as thinking and he denies that machines can think because they are\n",
      "machines. That is what he says in his article again and again. And he\n",
      "states this prejudice as his conclusion, as if he got there by reasoning.\n",
      "\n",
      "His article is long, too long, and almost paragraph by paragraph one\n",
      "can argue with him.  Let me tackle only this example of his:\n",
      "\n",
      "        Here’s an example. Suppose you are holding an apple in your\n",
      "        hand. Now you let the apple go. You observe the result and say,\n",
      "        “The apple falls.” That is a description. A prediction\n",
      "        might have been the statement “The apple will fall if I open\n",
      "        my hand.” Both are valuable, and both can be correct. But an\n",
      "        explanation is something more: It includes not only descriptions\n",
      "        and predictions but also counterfactual conjectures like “Any\n",
      "        such object would fall,” plus the additional clause “because\n",
      "        of the force of gravity” or “because of the curvature of\n",
      "        space-time” or whatever. That is a causal explanation: “The\n",
      "        apple would not have fallen but for the force of gravity.”\n",
      "        That is thinking.\n",
      "\n",
      "Yes, that is thinking. Chomsky thinks here he is telling us what only\n",
      "humans do. Task by task\n",
      "he describes a human ability and then he says, \"That is thinking.\"\n",
      "What he does not do in this paragraph is recognise that ChatGPT can do\n",
      "all of these tasks also. If Chomsky concludes \"that is thinking\" then\n",
      "that must be evidence of thinking for anything which can do those tasks.\n",
      "According to Chomsky's own argument ChatGPT can think.\n",
      "\n",
      "What all (but a tiny handful of humans) are doing when they say “The\n",
      "apple would not have fallen but for the force of gravity” is precisely\n",
      "what ChatGPT is doing when it too says the same, and it does say the\n",
      "same. Both humans and ChatGPT are merely merely reciting what they\n",
      "were taught, their \"training\n",
      "data\". Neither 99%-of-humans nor ChatGPT understand what is going on.\n",
      "\n",
      "Newton and Einstein and Feynman and their like may have a deeper understanding\n",
      "but other humans merely recite what they were told. Apples fall because\n",
      "of gravity. And ChatGPT knows this in the same way as humans, it's\n",
      "in the training data of humans and AI.  Humans do not work this out,\n",
      "they recite a fact. So does ChatGPT.\n",
      "\n",
      "ChatGPT also does all the rest Chomsky claims as uniquely human\n",
      "capabilities in his example.  ChatGPT can do the description of the\n",
      "apple falling and the prediction that it will fall. It can do what Chomsky\n",
      "unnecessarily uses technical language for, it can do the \"counterfactual\n",
      "conjecture\", it knows that all objects fall!  ChatGPT knows this is\n",
      "“because of the curvature of space-time”.  ChatGPT knows this\n",
      "\"causal explanation\" better than most humans. ChatGPT knows “The\n",
      "apple would not have fallen but for the force of gravity.” Yes,\n",
      "and here I agree with Noam Chomsky: He says of the \"causal\n",
      "explanation\" that \"That is thinking.\"\n",
      "\n",
      "If ChatGPT is not thinking when it says all that then neither are humans\n",
      "UNLESS thinking is defined as something that humans do and ChatGPT\n",
      "does not.  The only way Chomsky can support his assertion is by defining\n",
      "\"thinking\" and \"knowing\" and \"description\" and \"prediction\" and \"generalising\"\n",
      "etc etc as being that which are uniquely human capabilities.  Chomsky's argument\n",
      "depends upon the circularity where he takes as an unstated but necessary\n",
      "predicate that only humans can think. He concludes, after many paragraphs\n",
      "of delusional obfuscation that thinking is what only humans can do.\n",
      "\n",
      "Now, Chomsky is a great man and he may be right. But he doesn't show\n",
      "this in his article.\n",
      "\n",
      "___\n",
      "\n",
      "\n",
      "\n",
      "Fine-tuned Response:\n",
      "You are a highly skilled and detail-oriented copy editor with extensive experience in academic writing. Your task is to revise a complex argumentative text by Noam Chomsky. The text is about artificial intelligence and includes technical language and detailed examples. Your goal is to ensure the text is well-organized, the arguments are clearly articulated and logically sound, the language is precise and accessible to an educated audience, and any jargon is explained or replaced with simpler alternatives where appropriate. Pay close attention to Chomsky's specific points and counterarguments, ensuring your revisions maintain the original meaning and intent while enhancing clarity and flow. Use CONTEXTUAL PROMPTING by referencing the provided example of a well-written analysis of Chomsky's ideas on language and AI as a guide.\n",
      "--------------------------------------------------------------------------------\n",
      "\n",
      "--- Example 25 ---\n",
      "Original Prompt:\n",
      "1 / 1Is it possible to run Citrix Optimizer via commandline or script on persistent machiens that are already built?\n",
      "\n",
      "Fine-tuned Response:\n",
      "You are an expert Citrix administrator. I need to create a script to run Citrix Optimizer on persistent virtual machines after they have been provisioned. The script should be able to identify the machine's hostname, run the optimizer, and log the results. Provide a sample script that accomplishes this, including the necessary commands and logging mechanisms. Also, explain how to configure the script to run automatically on a schedule. Ensure the script is compatible with Citrix Optimizer version X.YZ and Windows Server 2019. Here's an example of the desired log format: [Timestamp] [Hostname] [Optimization Status] [Details].\n",
      "--------------------------------------------------------------------------------\n",
      "\n",
      "--- Example 759 ---\n",
      "Original Prompt:\n",
      "can you give me a few name for an auction house that would be more appeal to social media\n",
      "\n",
      "Fine-tuned Response:\n",
      "I want you to rewrite the following prompt to be more effective and specific for generating a better auction house name. The original prompt is: \"can you give me a few name for an auction house that would be more appeal to social media.\" Improve it by adding specific details about the target audience, the type of auctions held, and the desired brand aesthetic. Provide three distinct auction house names that meet these criteria.\n",
      "--------------------------------------------------------------------------------\n",
      "\n",
      "--- Example 281 ---\n",
      "Original Prompt:\n",
      "Please write a reply to this email, saying thanks for the information and that I'm interested in knowing more about it:\n",
      "###\n",
      "Dear Andre,\n",
      "\n",
      "I hope this email finds you well.\n",
      "\n",
      "Today, I want to discuss the importance of web accessibility for your website.\n",
      "With over a billion people worldwide living with disabilities, it's crucial that we create websites that are easy to use for everyone.\n",
      "\n",
      "Web accessibility means designing and developing websites that can be used by people with disabilities,\n",
      "such as those who are blind, deaf, or have limited mobility.\n",
      "\n",
      "This involves creating content that can be easily accessed using assistive technologies, such as screen readers or keyboard-only navigation.\n",
      "\n",
      "There are several benefits to creating an accessible website.\n",
      "For one, it ensures that your website is inclusive and reaches the broadest possible audience.\n",
      "\n",
      "It also helps you comply with accessibility laws and regulations, such as the Americans with Disabilities Act (ADA),\n",
      "which requires businesses to provide equal access to their goods and services.\n",
      "\n",
      "Additionally, an accessible website can improve the user experience for all users, not just those with disabilities.\n",
      "\n",
      "It can make your website more user-friendly, faster to navigate, and easier to use across different devices and platforms.\n",
      "\n",
      "In this email series, we'll cover the basics of web accessibility and how it can benefit your website and your users.\n",
      "\n",
      "I hope that you find this information helpful and informative.\n",
      "\n",
      "Please feel free to reach out if you have any questions or concerns.\n",
      "\n",
      "Free trial\n",
      "\n",
      "Best regards,\n",
      "Jacob\n",
      "\n",
      "Fine-tuned Response:\n",
      "You are an expert in web accessibility. Develop a detailed and actionable email response to Jacob's email about web accessibility. The response should:\n",
      "\n",
      "1.  Acknowledge the importance of web accessibility.\n",
      "2.  Express interest in learning more about the specific strategies and tools for implementing web accessibility on your website.\n",
      "3.  Provide three concrete, actionable steps that Jacob can take to improve the accessibility of his website immediately.\n",
      "4.  Ask for links to resources or further information about web accessibility best practices and compliance with ADA regulations.\n",
      "5.  Thank Jacob for the informative email.\n",
      "\n",
      "The response should be professional, well-written, and easy to understand.\n",
      "--------------------------------------------------------------------------------\n",
      "\n",
      "Random examples as a dataframe:\n"
     ]
    },
    {
     "data": {
      "text/html": [
       "<div>\n",
       "<style scoped>\n",
       "    .dataframe tbody tr th:only-of-type {\n",
       "        vertical-align: middle;\n",
       "    }\n",
       "\n",
       "    .dataframe tbody tr th {\n",
       "        vertical-align: top;\n",
       "    }\n",
       "\n",
       "    .dataframe thead th {\n",
       "        text-align: right;\n",
       "    }\n",
       "</style>\n",
       "<table border=\"1\" class=\"dataframe\">\n",
       "  <thead>\n",
       "    <tr style=\"text-align: right;\">\n",
       "      <th></th>\n",
       "      <th>original_prompt</th>\n",
       "      <th>fine_tuned_response</th>\n",
       "    </tr>\n",
       "  </thead>\n",
       "  <tbody>\n",
       "    <tr>\n",
       "      <th>654</th>\n",
       "      <td>write code for a user script to set up a aws e...</td>\n",
       "      <td>Here's an example of how an EC2 instance is se...</td>\n",
       "    </tr>\n",
       "    <tr>\n",
       "      <th>114</th>\n",
       "      <td>You are a very good copy editor. Please take t...</td>\n",
       "      <td>You are a highly skilled and detail-oriented c...</td>\n",
       "    </tr>\n",
       "    <tr>\n",
       "      <th>25</th>\n",
       "      <td>1 / 1Is it possible to run Citrix Optimizer vi...</td>\n",
       "      <td>You are an expert Citrix administrator. I need...</td>\n",
       "    </tr>\n",
       "    <tr>\n",
       "      <th>759</th>\n",
       "      <td>can you give me a few name for an auction hous...</td>\n",
       "      <td>I want you to rewrite the following prompt to ...</td>\n",
       "    </tr>\n",
       "    <tr>\n",
       "      <th>281</th>\n",
       "      <td>Please write a reply to this email, saying tha...</td>\n",
       "      <td>You are an expert in web accessibility. Develo...</td>\n",
       "    </tr>\n",
       "  </tbody>\n",
       "</table>\n",
       "</div>"
      ],
      "text/plain": [
       "                                       original_prompt  \\\n",
       "654  write code for a user script to set up a aws e...   \n",
       "114  You are a very good copy editor. Please take t...   \n",
       "25   1 / 1Is it possible to run Citrix Optimizer vi...   \n",
       "759  can you give me a few name for an auction hous...   \n",
       "281  Please write a reply to this email, saying tha...   \n",
       "\n",
       "                                   fine_tuned_response  \n",
       "654  Here's an example of how an EC2 instance is se...  \n",
       "114  You are a highly skilled and detail-oriented c...  \n",
       "25   You are an expert Citrix administrator. I need...  \n",
       "759  I want you to rewrite the following prompt to ...  \n",
       "281  You are an expert in web accessibility. Develo...  "
      ]
     },
     "metadata": {},
     "output_type": "display_data"
    }
   ],
   "source": [
    "# Display random examples from the dataset\n",
    "import random\n",
    "\n",
    "# Set a random seed for reproducibility\n",
    "random.seed(42)\n",
    "\n",
    "# Select 5 random indices from the dataframe\n",
    "random_indices = random.sample(range(len(df_sharegpt)), 5)\n",
    "\n",
    "print(\"\\nRandom examples of prompts and their fine-tuned responses:\")\n",
    "for idx in random_indices:\n",
    "    print(f\"\\n--- Example {idx} ---\")\n",
    "    print(f\"Original Prompt:\\n{df_sharegpt['original_prompt'].iloc[idx]}\")\n",
    "    print(f\"\\nFine-tuned Response:\\n{df_sharegpt['fine_tuned_response'].iloc[idx]}\")\n",
    "    print(\"-\" * 80)\n",
    "\n",
    "# Alternative display using pandas\n",
    "print(\"\\nRandom examples as a dataframe:\")\n",
    "display(df_sharegpt.loc[random_indices, ['original_prompt', 'fine_tuned_response']])\n"
   ]
  },
  {
   "cell_type": "code",
   "execution_count": 10,
   "metadata": {},
   "outputs": [
    {
     "name": "stdout",
     "output_type": "stream",
     "text": [
      "Loading fine-tuned responses...\n",
      "Loading Flash 2.0 responses...\n",
      "Joining datasets on original_id...\n",
      "Combined dataset shape: (1000, 5)\n",
      "\n",
      "Sample of combined results:\n"
     ]
    },
    {
     "data": {
      "text/html": [
       "<div>\n",
       "<style scoped>\n",
       "    .dataframe tbody tr th:only-of-type {\n",
       "        vertical-align: middle;\n",
       "    }\n",
       "\n",
       "    .dataframe tbody tr th {\n",
       "        vertical-align: top;\n",
       "    }\n",
       "\n",
       "    .dataframe thead th {\n",
       "        text-align: right;\n",
       "    }\n",
       "</style>\n",
       "<table border=\"1\" class=\"dataframe\">\n",
       "  <thead>\n",
       "    <tr style=\"text-align: right;\">\n",
       "      <th></th>\n",
       "      <th>original_id</th>\n",
       "      <th>original_prompt_fine_tuned</th>\n",
       "      <th>fine_tuned_response</th>\n",
       "      <th>base_response</th>\n",
       "    </tr>\n",
       "  </thead>\n",
       "  <tbody>\n",
       "    <tr>\n",
       "      <th>0</th>\n",
       "      <td>140731</td>\n",
       "      <td>One-pot vegetarian pasta recipes for busy nights</td>\n",
       "      <td>Here are two examples of one-pot pasta recipes...</td>\n",
       "      <td>Write five unique one-pot vegetarian pasta rec...</td>\n",
       "    </tr>\n",
       "    <tr>\n",
       "      <th>1</th>\n",
       "      <td>121053</td>\n",
       "      <td>We have the following blog content... what is ...</td>\n",
       "      <td>Here is an example of blog content and the cor...</td>\n",
       "      <td>Analyze the provided blog content from GigSala...</td>\n",
       "    </tr>\n",
       "    <tr>\n",
       "      <th>2</th>\n",
       "      <td>37805</td>\n",
       "      <td>how o sort element using merge sort technique ...</td>\n",
       "      <td>You are a Java programming assistant. I need y...</td>\n",
       "      <td>Write a Java program that implements the Merge...</td>\n",
       "    </tr>\n",
       "    <tr>\n",
       "      <th>3</th>\n",
       "      <td>116016</td>\n",
       "      <td>make a javascript class \"GraphicLayer\" which i...</td>\n",
       "      <td>Here are some examples of JavaScript classes f...</td>\n",
       "      <td>```\\nCreate a JavaScript class named \"GraphicL...</td>\n",
       "    </tr>\n",
       "    <tr>\n",
       "      <th>4</th>\n",
       "      <td>132819</td>\n",
       "      <td>!Please outline the steps to build an automate...</td>\n",
       "      <td>Here's an example of a good automated chat bot...</td>\n",
       "      <td>Develop a detailed, step-by-step plan for crea...</td>\n",
       "    </tr>\n",
       "  </tbody>\n",
       "</table>\n",
       "</div>"
      ],
      "text/plain": [
       "   original_id                         original_prompt_fine_tuned  \\\n",
       "0       140731   One-pot vegetarian pasta recipes for busy nights   \n",
       "1       121053  We have the following blog content... what is ...   \n",
       "2        37805  how o sort element using merge sort technique ...   \n",
       "3       116016  make a javascript class \"GraphicLayer\" which i...   \n",
       "4       132819  !Please outline the steps to build an automate...   \n",
       "\n",
       "                                 fine_tuned_response  \\\n",
       "0  Here are two examples of one-pot pasta recipes...   \n",
       "1  Here is an example of blog content and the cor...   \n",
       "2  You are a Java programming assistant. I need y...   \n",
       "3  Here are some examples of JavaScript classes f...   \n",
       "4  Here's an example of a good automated chat bot...   \n",
       "\n",
       "                                       base_response  \n",
       "0  Write five unique one-pot vegetarian pasta rec...  \n",
       "1  Analyze the provided blog content from GigSala...  \n",
       "2  Write a Java program that implements the Merge...  \n",
       "3  ```\\nCreate a JavaScript class named \"GraphicL...  \n",
       "4  Develop a detailed, step-by-step plan for crea...  "
      ]
     },
     "metadata": {},
     "output_type": "display_data"
    },
    {
     "name": "stdout",
     "output_type": "stream",
     "text": [
      "Combined dataset saved to ../data/combined_responses.csv\n"
     ]
    }
   ],
   "source": [
    "# Load the fine-tuned responses\n",
    "print(\"Loading fine-tuned responses...\")\n",
    "df_fine_tuned = pd.read_csv(\"../data/FineTunedResponses/all_responses.csv\")\n",
    "\n",
    "# Load the Flash 2.0 responses\n",
    "print(\"Loading Flash 2.0 responses...\")\n",
    "df_flash = pd.read_csv(\"../data/Flash2.0Responses/all_responses.csv\")\n",
    "\n",
    "# Join the datasets on original_id\n",
    "print(\"Joining datasets on original_id...\")\n",
    "df_combined = pd.merge(\n",
    "    df_fine_tuned, \n",
    "    df_flash,\n",
    "    on=\"original_id\",\n",
    "    suffixes=(\"_fine_tuned\", \"_flash\")\n",
    ")\n",
    "\n",
    "# Display information about the combined dataset\n",
    "print(f\"Combined dataset shape: {df_combined.shape}\")\n",
    "print(\"\\nSample of combined results:\")\n",
    "display(df_combined[['original_id', 'original_prompt_fine_tuned', 'fine_tuned_response', 'base_response']].head(5))\n",
    "\n",
    "# Save the combined dataset\n",
    "df_combined.to_csv(\"../data/combined_responses.csv\", index=False)\n",
    "print(\"Combined dataset saved to ../data/combined_responses.csv\")\n"
   ]
  },
  {
   "cell_type": "code",
   "execution_count": 13,
   "metadata": {},
   "outputs": [
    {
     "name": "stdout",
     "output_type": "stream",
     "text": [
      "\n",
      "Readable examples from the combined dataset:\n",
      "====================================================================================================\n",
      "\n",
      "\n",
      "--- Example 1 ---\n",
      "Original Prompt:\n",
      "make a javascript class \"GraphicLayer\" which is supplied a parent element, an image element or the url of an image. If the second argument is a url, it will create the image element. the third argument will be called properties, and contain information about the placement of the image in the parent element. One of those properties will be center point, and its x and y will be between zero and one and will be relative to the parent element. (x:.5 and y: .5 will mean the child image is centered on the parent. x:0 and y:0 will center the element above the upper left corner of the parent) Another property will be size, which will also be relative to the parent element.The default center point will be x: 0.5 and y: 0.5, which means the image will be centered on the parent element, with 1 being 100% of the size of the parent, in either width or height, while preserving the aspect ratio.   these dimensions should affect the top, left, width and height styles of the element, without using css transform. there should be a separate method that adjusts those styles.  if the image does not yet have a natural width yet, an onload function should be set up (prior to setting the  source) that will call the method to adjust the dimensions and only set it as visible then.\n",
      "\n",
      "--------------------------------------------------\n",
      "Fine-tuned Model Response:\n",
      "Here are some examples of JavaScript classes for displaying images with positioning relative to a parent element:\n",
      "\n",
      "Example 1:\n",
      "class ImageLayer {\n",
      "  constructor(parent, src, properties) {\n",
      "    this.parent = parent;\n",
      "    this.img = document.createElement('img');\n",
      "    this.img.src = src;\n",
      "    this.properties = properties || {};\n",
      "    this.parent.appendChild(this.img);\n",
      "    this.updateStyles();\n",
      "  }\n",
      "\n",
      "  updateStyles() {\n",
      "    this.img.style.position = 'absolute';\n",
      "    const x = this.properties.x || 0.5;\n",
      "    const y = this.properties.y || 0.5;\n",
      "    const widthFactor = this.properties.width || 1;\n",
      "    const heightFactor = this.properties.height || 1;\n",
      "    this.img.style.left = `${x * this.parent.offsetWidth - this.img.offsetWidth * widthFactor / 2}px`;\n",
      "    this.img.style.top = `${y * this.parent.offsetHeight - this.img.offsetHeight * heightFactor / 2}px`;\n",
      "    this.img.style.width = `${widthFactor * this.parent.offsetWidth}px`;\n",
      "    this.img.style.height = `${heightFactor * this.parent.offsetHeight}px`;\n",
      "  }\n",
      "}\n",
      "\n",
      "Example 2:\n",
      "class CircleLayer {\n",
      "  constructor(parent, properties) {\n",
      "    this.parent = parent;\n",
      "    this.element = document.createElement('div');\n",
      "    this.element.style.borderRadius = '50%';\n",
      "    this.element.style.backgroundColor = properties.color || 'red';\n",
      "    this.parent.appendChild(this.element);\n",
      "    this.properties = properties;\n",
      "    this.updateStyles();\n",
      "  }\n",
      "\n",
      "  updateStyles() {\n",
      "    this.element.style.position = 'absolute';\n",
      "    const x = this.properties.x || 0.5;\n",
      "    const y = this.properties.y || 0.5;\n",
      "    const sizeFactor = this.properties.size || 0.2;\n",
      "    this.element.style.left = `${x * this.parent.offsetWidth - this.parent.offsetWidth * sizeFactor / 2}px`;\n",
      "    this.element.style.top = `${y * this.parent.offsetHeight - this.parent.offsetHeight * sizeFactor / 2}px`;\n",
      "    this.element.style.width = `${sizeFactor * this.parent.offsetWidth}px`;\n",
      "    this.element.style.height = `${sizeFactor * this.parent.offsetHeight}px`;\n",
      "  }\n",
      "}\n",
      "\n",
      "Now, create a JavaScript class called `GraphicLayer` that takes a parent element, an image element or the URL of an image, and a properties object. The properties object should include `center_x` and `center_y` (0-1), and `width_factor` and `height_factor` (0-1). Use onload to adjust the image dimensions when the image is loaded and ensure the image is centered and scaled correctly within the parent element.\n",
      "\n",
      "--------------------------------------------------\n",
      "Base Model Response:\n",
      "```\n",
      "Create a JavaScript class named \"GraphicLayer\" designed for dynamic image placement within a parent HTML element.\n",
      "\n",
      "**Class Constructor:**\n",
      "\n",
      "The constructor should accept the following arguments:\n",
      "\n",
      "1.  `parentElement`:  A reference to the parent HTML element (e.g., `<div>`). This element will serve as the container for the image.\n",
      "2.  `imageSource`:  Either an HTML `<img>` element OR a string representing the URL of an image. If a URL is provided, the constructor should create a new `<img>` element and set its `src` attribute to the URL.\n",
      "3.  `properties` (Object): An optional object containing placement and sizing information for the image.  It should include the following:\n",
      "    *   `centerPoint`:  An object with `x` and `y` properties (numbers between 0 and 1) defining the image's center point relative to the parent.  Values represent percentages: `x: 0.5, y: 0.5` centers the image; `x: 0, y: 0` places the top-left corner of the image at the top-left corner of the parent. Defaults to `{ x: 0.5, y: 0.5 }` if not provided.\n",
      "    *   `size`:  An object with `width` and `height` properties (numbers between 0 and 1) defining the image's size relative to the parent. Values represent percentages of the parent's width or height, maintaining the aspect ratio of the image.  A value of `1` represents 100% of the parent's relevant dimension (width or height, whichever is smaller to ensure the whole image is visible).\n",
      "\n",
      "**Methods:**\n",
      "\n",
      "1.  `adjustPositionAndSize()`: This method should calculate and apply the necessary CSS `top`, `left`, `width`, and `height` styles to the image element to position and size it based on the `centerPoint`, `size`, and parent element dimensions. This method MUST NOT use CSS `transform`.  It should also handle the case where the image hasn't loaded yet by using an `onload` event on the image element; if the image has not yet loaded when this function is called, it should set the image to `display: none;`, set `onload` and then set the image to `display: block` in the `onload` function.\n",
      "2.  `updateProperties(newProperties)`: A method to dynamically change the properties of the GraphicLayer object. This method should allow the user to update `centerPoint`, and `size` . Calling this method should trigger `adjustPositionAndSize()`\n",
      "\n",
      "**Constraints and Requirements:**\n",
      "\n",
      "*   The image's aspect ratio MUST be preserved during sizing.\n",
      "*   When `size` is specified, the image should scale to fit within the available space based on the smaller dimension (width or height) of the parent.\n",
      "*   Ensure the image is initially hidden (e.g., `display: none`) if its dimensions are not yet known. Reveal the image (e.g., `display: block`) *only* after `adjustPositionAndSize()` is called after the image has loaded (if the image is not yet loaded).\n",
      "*   The generated code should be well-commented and easy to understand.\n",
      "\n",
      "**Output Format:**\n",
      "\n",
      "Provide ONLY the complete, runnable JavaScript class definition, ready to be used directly in an HTML environment. The code should be concise and efficient.\n",
      "```\n",
      "\n",
      "\n",
      "====================================================================================================\n",
      "\n",
      "\n",
      "--- Example 2 ---\n",
      "Original Prompt:\n",
      "!Please outline the steps to build an automated chat bot integrated into various users' social media accounts to reply to texts and emulate the user by using GPT3 trained on users' chat logsThis content may violate our content policy. If you believe this to be in error, please submit your feedback — your input will aid our research in this area.\n",
      "\n",
      "--------------------------------------------------\n",
      "Fine-tuned Model Response:\n",
      "Here's an example of a good automated chat bot building prompt:\n",
      "\n",
      "Input Prompt: You are a software engineering expert. Write Python code to build an automated customer support chatbot that can answer common questions about a product. Use the following steps:\n",
      "\n",
      "1.  Define the intent of common customer inquiries (e.g., \"How do I reset my password?\", \"What are the shipping costs?\", \"How do I contact support?\").\n",
      "2.  Create a decision-making process to route each query to the appropriate answer.\n",
      "3.  Write code to generate responses based on the identified intent.\n",
      "4.  Include a fallback mechanism for handling unknown queries.\n",
      "5.  Test the chatbot with sample customer inquiries.\n",
      "\n",
      "Now, write the Python code for this chatbot, following the steps outlined above. Include necessary libraries and comments to explain the code. Provide a sample conversation with the chatbot.\n",
      "\n",
      "--------------------------------------------------\n",
      "Base Model Response:\n",
      "Develop a detailed, step-by-step plan for creating a GPT-3 powered chatbot capable of automated interaction across multiple social media platforms (e.g., Twitter, Facebook, Instagram). The chatbot should:\n",
      "\n",
      "1.  **Data Acquisition & Preparation:** Describe the process of collecting and cleaning user chat logs. Specify the data formats to be supported (e.g., text, JSON). Detail methods for handling PII and ensuring user privacy during data collection and processing.\n",
      "2.  **Model Training & Fine-tuning:** Outline the specific GPT-3 model to utilize and the parameters for fine-tuning the model on the cleaned user chat logs. Include guidance on prompt engineering strategies to maximize the chatbot's ability to mimic a user's writing style, tone, and vocabulary.\n",
      "3.  **Platform Integration:** Detail the technical steps to integrate the chatbot with various social media APIs. Specify how to handle different message formats, character limits, and platform-specific features. Include considerations for real-time interaction and managing multiple concurrent conversations.\n",
      "4.  **Automated Response Logic:** Define the logic the chatbot will follow to identify incoming messages, determine the appropriate response, and generate an output using the fine-tuned GPT-3 model. Detail methods for handling ambiguous requests, providing relevant and engaging replies, and avoiding offensive or inappropriate content.\n",
      "5.  **User Authentication & Authorization:** Explain the processes for securely authenticating users to allow the chatbot access to their social media accounts. Detail how the chatbot will manage different user profiles and access rights across multiple platforms.\n",
      "6.  **Testing & Evaluation:** Outline a testing and evaluation methodology for measuring the chatbot's performance. Include metrics for measuring accuracy, fluency, user satisfaction, and the ability to correctly emulate user style.\n",
      "7.  **Scalability & Maintenance:** Detail plans for ensuring the scalability of the chatbot as the number of users and platform interactions grow. Include a maintenance plan for updating the model, handling API changes, and troubleshooting common issues.\n",
      "\n",
      "Provide the plan in a numbered list format. Consider potential legal and ethical implications throughout the process.\n",
      "\n",
      "\n",
      "====================================================================================================\n",
      "\n",
      "\n",
      "--- Example 3 ---\n",
      "Original Prompt:\n",
      "how o sort element using merge sort technique using array in java Save & SubmitCancel\n",
      "\n",
      "--------------------------------------------------\n",
      "Fine-tuned Model Response:\n",
      "You are a Java programming assistant. I need you to implement the merge sort algorithm to sort an array of integers in Java. Provide the complete Java code, including the main function with an example array to be sorted. Explain the algorithm step-by-step in comments within the code. Here's an example of how the code should start:\n",
      "\n",
      "```java\n",
      "public class MergeSort {\n",
      "\n",
      "    public static void main(String[] args) {\n",
      "        int[] arr = {38, 27, 43, 3, 9, 82, 10};\n",
      "        mergeSort(arr, 0, arr.length - 1);\n",
      "        System.out.println(\"Sorted array:\");\n",
      "        for (int num : arr) {\n",
      "            System.out.print(num + \" \");\n",
      "        }\n",
      "    }\n",
      "}\n",
      "```\n",
      "\n",
      "--------------------------------------------------\n",
      "Base Model Response:\n",
      "Write a Java program that implements the Merge Sort algorithm to sort an array of integers in ascending order. The program should:\n",
      "\n",
      "1.  Accept an integer array as input.\n",
      "2.  Implement the mergeSort() function to recursively divide the array and merge the sorted sub-arrays.\n",
      "3.  Implement the merge() function to merge two sorted sub-arrays into a single sorted array.\n",
      "4.  Include clear comments explaining each step of the algorithm.\n",
      "5.  Provide a main() method to test the implementation with a sample integer array (e.g., `{38, 27, 43, 3, 9, 82, 10}`).\n",
      "6.  The program should output the sorted array to the console using `System.out.println()`.\n",
      "7.  The final code should be well-formatted and readable.\n",
      "\n",
      "\n",
      "====================================================================================================\n",
      "\n",
      "\n",
      "Additional random examples:\n",
      "====================================================================================================\n",
      "\n",
      "\n",
      "--- Random Example 1 ---\n",
      "Original Prompt:\n",
      "I need microservice full code for following scope - i want to get data from external api leveraging webclient, the api details are stored in database table;  username, password and authorization code are optional and stored in same database table; The output is to be filtered for some fields; the composite Id and description field from original table is to be saved alongwitth; date and time are also to be added in the new table. The whole information is also to be forwarded to kafka topic. The external api call is to be made every 15 min\n",
      "\n",
      "--------------------------------------------------\n",
      "Fine-tuned Model Response:\n",
      "You are a senior software architect. I need a microservice code implementation in Spring Boot for the following scenario:\n",
      "\n",
      "1.  **Data Retrieval:** Fetch data from an external API using WebClient. The API details (base URL, endpoint) are stored in a database table named `api_configuration`.\n",
      "2.  **Authentication (Optional):** Optionally use basic authentication (username, password) or OAuth 2.0 authorization code flow for API authentication. This information is also stored in the `api_configuration` table.\n",
      "3.  **Database Storage:** Store the fetched data (filtered as described below) in a database table named `fetched_data`. The `fetched_data` table should include the following columns:\n",
      "    *   `composite_id` (from the `api_configuration` table)\n",
      "    *   `description` (from the `api_configuration` table)\n",
      "    *   `original_data` (JSON representation of the original API response)\n",
      "    *   `filtered_data` (JSON representation of the filtered data)\n",
      "    *   `timestamp` (date and time of data retrieval)\n",
      "4.  **Data Filtering:** Apply filtering to the retrieved data based on specific criteria (define these criteria in the implementation details).\n",
      "5.  **Kafka Integration:** Publish the filtered data to a Kafka topic named `api-data-topic`.\n",
      "6.  **Scheduling:** Schedule the API call and data processing to run every 15 minutes.\n",
      "\n",
      "Provide a complete, runnable Spring Boot application code, including configuration files, database schema (if necessary), and necessary dependencies. Also, include detailed comments within the code explaining each step of the process. The code should be well-structured, modular, and easy to understand. Provide sample configurations for database connection and Kafka connection. Include error handling and logging mechanisms. Use best practices for microservice development, such as dependency injection and configuration management. Provide clear instructions on how to run and test the application.\n",
      "\n",
      "--------------------------------------------------\n",
      "Base Model Response:\n",
      "Develop a Spring Boot microservice in Java to fetch data from an external API using WebClient.\n",
      "\n",
      "**Specific Requirements:**\n",
      "\n",
      "1.  **API Configuration:** The API endpoint URL, request headers (including any required content type), and any optional authentication credentials (username, password, authorization code - if the API requires it) are stored in a database table named `api_configuration`. The table schema includes columns for:\n",
      "    *   `api_id` (INT, Primary Key, auto-incrementing)\n",
      "    *   `api_name` (VARCHAR, e.g., \"ExternalAPI\")\n",
      "    *   `api_url` (VARCHAR)\n",
      "    *   `username` (VARCHAR, nullable)\n",
      "    *   `password` (VARCHAR, nullable)\n",
      "    *   `authorization_code` (VARCHAR, nullable)\n",
      "    *   `request_headers` (JSON, optional key-value pairs, nullable - e.g., {\"Content-Type\": \"application/json\"})\n",
      "\n",
      "2.  **Data Transformation and Filtering:**\n",
      "    *   Fetch the data from the external API using WebClient. Error handling to retry with exponential backoff is needed if there is an error when calling the API.\n",
      "    *   Filter the data based on the following requirements: (Specify the field names to filter on - e.g. Status is active)\n",
      "    *   The original dataset will have a `composite_id` (e.g., INT, VARCHAR) and `description` (VARCHAR) which needs to be saved along with the filtered data in the new table.\n",
      "    *   Generate a new table to persist the data, which includes the original dataset with the field `composite_id` and `description` along with the filtered data, including a new timestamp.\n",
      "    *   Store this new table with the name `transformed_api_data` (Specify the table and its columns).\n",
      "\n",
      "3.  **Scheduling:** Implement a scheduler (using `@Scheduled`) to call the external API every 15 minutes.\n",
      "\n",
      "4.  **Kafka Integration:** Forward the transformed data to a Kafka topic named `api-data-topic`. Provide the code configuration with the necessary properties and configurations.\n",
      "\n",
      "**Output Format:**\n",
      "\n",
      "*   Provide the full, compilable Java source code.\n",
      "*   Include a detailed `README.md` file.\n",
      "    *   Instructions on how to set up the database.\n",
      "    *   Instructions on how to set up Kafka.\n",
      "    *   Instructions on how to run the microservice, including dependencies, build instructions (Maven), and configuration details.\n",
      "    *   Example API configuration data to be inserted into the `api_configuration` table.\n",
      "*   Specify the database technology (e.g., PostgreSQL, MySQL).\n",
      "*   Specify the Kafka setup requirements (e.g., Topic needs to be set).\n",
      "*   Use clear comments throughout the code.\n",
      "*   Include test cases to demonstrate API data fetching and Kafka publishing.\n",
      "\n",
      "**Constraints:**\n",
      "\n",
      "*   Use Spring Boot and Spring Data JPA for database interaction.\n",
      "*   Use WebClient for making HTTP requests.\n",
      "*   Handle potential exceptions (e.g., API connection errors, data parsing errors, database errors).\n",
      "*   Use JSON format for API responses and Kafka messages.\n",
      "*   Error handling to retry with exponential backoff is needed if there is an error when calling the API.\n",
      "\n",
      "\n",
      "====================================================================================================\n",
      "\n",
      "\n",
      "--- Random Example 2 ---\n",
      "Original Prompt:\n",
      "Explain quantum computing in simple terms\n",
      "\n",
      "--------------------------------------------------\n",
      "Fine-tuned Model Response:\n",
      "Here's an example of how to explain quantum computing clearly and simply:\n",
      "\n",
      "Input Prompt: Explain how a quantum computer works to a child.\n",
      "\n",
      "Answer: Imagine you have a light switch that can be on, off, or both at the same time! That's kind of like a quantum bit, or qubit, in a quantum computer. Normal computers use bits that are just on or off. Because qubits can be on, off, or both, quantum computers can solve some problems much faster than regular computers. They use something called superposition, which means a qubit can be in multiple states at once. Then, when the computer measures the qubit, it 'collapses' into either on or off. Quantum computers are still being developed, but they have the potential to revolutionize fields like medicine and materials science.\n",
      "\n",
      "Now, explain quantum computing in simple terms to a teenager who has some basic knowledge of physics. Provide an overview of qubits, superposition, entanglement, and quantum algorithms, and discuss the potential applications and challenges of this technology.\n",
      "\n",
      "--------------------------------------------------\n",
      "Base Model Response:\n",
      "Explain quantum computing to a high school student in under 200 words. Use analogies to everyday objects to illustrate complex concepts like superposition and entanglement. Provide a concise definition of a qubit and how it differs from a classical bit. Finally, briefly describe one practical application of quantum computing.\n",
      "\n",
      "\n",
      "====================================================================================================\n",
      "\n",
      "\n",
      "--- Random Example 3 ---\n",
      "Original Prompt:\n",
      "Write an Upwork proposal for the following:\n",
      "\n",
      "--------------------------------------------------\n",
      "Fine-tuned Model Response:\n",
      "Compose an Upwork proposal for a data science project involving customer churn prediction. The project aims to develop a machine learning model that predicts customer churn based on historical data. The proposal should include the following sections:\n",
      "\n",
      "1.  **Introduction:** Briefly introduce yourself and your expertise in data science, particularly in churn prediction.\n",
      "2.  **Project Understanding:** Demonstrate your understanding of the project requirements, goals, and key deliverables.\n",
      "3.  **Proposed Approach:** Describe your proposed approach for building the churn prediction model, including the algorithms you plan to use, the data preprocessing steps, and the evaluation metrics.\n",
      "4.  **Timeline:** Provide a detailed timeline for the project, including estimated start and end dates, and milestones for each phase.\n",
      "5.  **Budget:** Specify the proposed budget for the project, broken down by phase or deliverable.\n",
      "6.  **Why Choose You:** Explain why you are the best fit for this project, highlighting your relevant experience, skills, and past projects.\n",
      "7.  **Call to Action:** End with a call to action, encouraging the client to contact you for further discussion.\n",
      "\n",
      "Here's an example of how to structure the 'Introduction' section:\n",
      "\n",
      "```\n",
      "I am a highly experienced data scientist specializing in customer churn prediction. With over five years of experience, I have successfully helped numerous businesses identify and retain valuable customers. This project requires a robust and accurate churn prediction model, and I am confident that I can deliver exceptional results.\n",
      "```\n",
      "\n",
      "Remember to tailor the proposal to the specific project requirements and the client's needs. Focus on clarity, conciseness, and professionalism.\n",
      "\n",
      "--------------------------------------------------\n",
      "Base Model Response:\n",
      "Write an Upwork proposal for a freelance software developer to build a responsive e-commerce website for a small business selling handmade jewelry. The proposal should be approximately 200-300 words in length, address the client as \"Dear [Client Name],\" and include the following sections: 1) Introduction (briefly introduce yourself and years of experience), 2) Understanding of the Project (demonstrate comprehension of the project's needs, including responsive design and e-commerce functionality), 3) Approach (outline your proposed development approach, including technologies and tools, e.g., React, Node.js, Stripe integration), 4) Why Choose Me (highlight your relevant skills and experience, mentioning portfolio links if applicable, e.g., a link to your github), 5) Call to Action (request an interview and state your availability). Ensure the proposal has a professional tone, uses clear and concise language, and concludes with \"Sincerely, [Your Name]\". The project budget is approximately $5,000 - $7,000, and the desired deadline is 4 weeks.\n",
      "\n",
      "\n",
      "====================================================================================================\n",
      "\n",
      "\n",
      "--- Random Example 4 ---\n",
      "Original Prompt:\n",
      "What ways are there to connect an Azure Active Directory app to an external SharePoint site to create and edit files using C#, the SharePoint site must not be in the same AAD account or tenant as the APP\n",
      "\n",
      "--------------------------------------------------\n",
      "Fine-tuned Model Response:\n",
      "Let's think step by step. First, outline the high-level steps involved in connecting an Azure AD app to an external SharePoint site for file creation and editing using C# in a multi-tenant scenario. Second, for each step, provide specific code snippets in C# demonstrating how to achieve the connection and file manipulation. Third, address potential security concerns and best practices related to this type of integration. Finally, summarize the complete process with a code example that demonstrates the entire workflow, including authentication, file upload, and file download. The code example should be complete, runnable, and self-contained. Also, include comments to explain each line of code.\n",
      "\n",
      "--------------------------------------------------\n",
      "Base Model Response:\n",
      "Develop a C# code example demonstrating how to connect an Azure Active Directory (Azure AD) application to an external SharePoint Online site (outside of the application's tenant) for file creation and editing. The SharePoint site should be in a separate Azure AD tenant.\n",
      "\n",
      "Specifically:\n",
      "\n",
      "1.  **Authentication:** Implement the necessary authentication flow (e.g., using the Microsoft Authentication Library - MSAL) to obtain an access token for the external SharePoint site. Provide code snippets showing the registration of the app in Azure AD, the necessary permissions granted (e.g., Files.ReadWrite.All, Sites.ReadWrite.All), and the process of acquiring the access token. Detail the configuration of the client secret or certificate (if applicable).\n",
      "2.  **SharePoint Connection:** Establish a connection to the external SharePoint site using the access token and the SharePoint Online Client Object Model (CSOM). Include code for:\n",
      "    *   Specifying the target SharePoint site URL.\n",
      "    *   Authenticating against the external SharePoint site.\n",
      "3.  **File Operations:** Demonstrate the creation and editing of a text file within a specified document library on the external SharePoint site. The code should include:\n",
      "    *   Creating a new text file (e.g., \"test.txt\") in the document library.\n",
      "    *   Writing some example content to the file.\n",
      "    *   Editing the existing file with new content.\n",
      "4.  **Error Handling:** Implement basic error handling (e.g., try-catch blocks) to catch common issues such as authentication failures, network problems, or insufficient permissions.\n",
      "5.  **Security Considerations:** Include a brief comment section discussing security best practices, such as:\n",
      "    *   Securely storing and managing client secrets or certificates.\n",
      "    *   Implementing least-privilege access.\n",
      "    *   Regularly reviewing and updating application permissions.\n",
      "\n",
      "Provide the complete C# code, including necessary using statements, and clearly comment each code section for explanation. All code must be fully functional, allowing a user to execute it directly.\n",
      "\n",
      "\n",
      "====================================================================================================\n",
      "\n",
      "\n",
      "--- Random Example 5 ---\n",
      "Original Prompt:\n",
      "how to deploy frontend on digital ocean droplet with tmux\n",
      "\n",
      "--------------------------------------------------\n",
      "Fine-tuned Model Response:\n",
      "I need a step-by-step guide on how to deploy a React frontend (built with Create React App) to a Digital Ocean droplet using SSH and tmux. The droplet is already running Ubuntu 20.04 with a basic web server (e.g., Nginx) configured. The guide should cover the following stages:\n",
      "\n",
      "1.  Setting up the SSH key on the droplet.\n",
      "2.  Connecting to the droplet via SSH and tmux.\n",
      "3.  Installing Node.js and npm on the droplet.\n",
      "4.  Transferring the frontend files to the droplet (e.g., using scp or rsync).\n",
      "5.  Building the React app on the droplet using `npm run build`.\n",
      "6.  Configuring Nginx to serve the static assets (index.html, CSS, JavaScript, images) from the build directory.\n",
      "7.  Testing the deployment by accessing the droplet's IP address in a web browser.\n",
      "8.  (Optional) Setting up automatic deployments with Git.\n",
      "\n",
      "The guide should be easy to follow, even for someone with limited experience with server administration. Provide detailed commands and configuration snippets where necessary. Structure the guide with clear headings and subheadings for each step.\n",
      "\n",
      "--------------------------------------------------\n",
      "Base Model Response:\n",
      "Compose a detailed, step-by-step guide on deploying a React frontend application to a DigitalOcean droplet using Tmux for session management. The guide should cover:\n",
      "\n",
      "1.  **Prerequisites**: Specify required software (e.g., Node.js, npm/yarn, Git, SSH client) and a DigitalOcean account with an active droplet.\n",
      "2.  **Droplet Setup**: Detail the process of creating a new DigitalOcean droplet, choosing an appropriate operating system (e.g., Ubuntu), and connecting to it via SSH.\n",
      "3.  **Environment Setup**: Describe how to install Node.js, npm/yarn, and Git on the droplet. Include commands and version recommendations (e.g., Node.js v18+).\n",
      "4.  **Frontend Code Transfer**: Explain methods for transferring the React application code to the droplet (e.g., Git cloning from a repository, SCP).\n",
      "5.  **Build Process**: Outline how to build the React application for production, specifying the necessary npm/yarn command (e.g., `npm run build`).\n",
      "6.  **Tmux Configuration**: Provide clear instructions on setting up and using Tmux:\n",
      "    *   Creating a Tmux session.\n",
      "    *   Navigating within Tmux (e.g., splitting panes).\n",
      "    *   Detaching and reattaching to sessions.\n",
      "7.  **Nginx Configuration (Recommended)**: If using Nginx as a reverse proxy:\n",
      "    *   Install and configure Nginx to serve the built React application.\n",
      "    *   Configure server blocks and domain name (if applicable).\n",
      "    *   Provide sample Nginx configuration file(s).\n",
      "8.  **Alternative Simple HTTP Server (if applicable)**: If not using Nginx, explain a simple HTTP server setup for serving static files (e.g., using `serve` or `http-server`).\n",
      "9.  **Deployment and Startup**: Detail the steps to start the frontend application (and/or the HTTP server/Nginx) within the Tmux session.\n",
      "10. **Verification**: Describe how to verify the deployment by accessing the application in a web browser, including the Droplet's IP address and port number (if necessary).\n",
      "11. **Troubleshooting**: Address common issues and potential solutions.\n",
      "12.  **Best Practices**: Offer recommendations for security and optimization.\n",
      "\n",
      "The output should be formatted as a Markdown document with clear headings, subheadings, code blocks (using ``` syntax for code), and illustrative examples. The document should be easy to understand and follow, suitable for someone with basic knowledge of frontend development, server administration, and command-line interface.\n",
      "\n",
      "\n",
      "====================================================================================================\n"
     ]
    }
   ],
   "source": [
    "# Display some readable examples from the combined dataset\n",
    "print(\"\\nReadable examples from the combined dataset:\")\n",
    "print(\"=\" * 100)\n",
    "\n",
    "# Select different examples to display in a more readable format\n",
    "# Choose examples with interesting contrasts between fine-tuned and base responses\n",
    "sample_indices = [116016, 132819, 654]  # Different examples from the dataset\n",
    "\n",
    "for i, idx in enumerate(sample_indices):\n",
    "    row_idx = df_combined.index[df_combined['original_id'] == idx][0] if idx in df_combined['original_id'].values else i\n",
    "    print(f\"\\n\\n--- Example {i+1} ---\")\n",
    "    print(f\"Original Prompt:\\n{df_combined['original_prompt_fine_tuned'].iloc[row_idx]}\")\n",
    "    print(\"\\n\" + \"-\" * 50)\n",
    "    print(f\"Fine-tuned Model Response:\\n{df_combined['fine_tuned_response'].iloc[row_idx]}\")\n",
    "    print(\"\\n\" + \"-\" * 50)\n",
    "    print(f\"Base Model Response:\\n{df_combined['base_response'].iloc[row_idx]}\")\n",
    "    print(\"\\n\" + \"=\" * 100)\n",
    "\n",
    "# Get 5 random examples for additional variety\n",
    "random_indices = random.sample(range(len(df_combined)), 5)\n",
    "print(\"\\n\\nAdditional random examples:\")\n",
    "print(\"=\" * 100)\n",
    "\n",
    "for i, idx in enumerate(random_indices):\n",
    "    print(f\"\\n\\n--- Random Example {i+1} ---\")\n",
    "    print(f\"Original Prompt:\\n{df_combined['original_prompt_fine_tuned'].iloc[idx]}\")\n",
    "    print(\"\\n\" + \"-\" * 50)\n",
    "    print(f\"Fine-tuned Model Response:\\n{df_combined['fine_tuned_response'].iloc[idx]}\")\n",
    "    print(\"\\n\" + \"-\" * 50)\n",
    "    print(f\"Base Model Response:\\n{df_combined['base_response'].iloc[idx]}\")\n",
    "    print(\"\\n\" + \"=\" * 100)\n"
   ]
  },
  {
   "cell_type": "code",
   "execution_count": 14,
   "metadata": {},
   "outputs": [
    {
     "name": "stdout",
     "output_type": "stream",
     "text": [
      "\n",
      "Processing fine-tuned prompts:\n"
     ]
    },
    {
     "name": "stderr",
     "output_type": "stream",
     "text": [
      "  0%|          | 0/1000 [00:00<?, ?it/s]"
     ]
    },
    {
     "name": "stderr",
     "output_type": "stream",
     "text": [
      "  2%|▏         | 16/1000 [01:22<55:37,  3.39s/it]  "
     ]
    },
    {
     "name": "stdout",
     "output_type": "stream",
     "text": [
      "Error processing prompt 16: Invalid operation: The `response.text` quick accessor requires the response to contain a valid `Part`, but none were returned. The candidate's [finish_reason](https://ai.google.dev/api/generate-content#finishreason) is 4. Meaning that the model was reciting from copyrighted material.\n"
     ]
    },
    {
     "name": "stderr",
     "output_type": "stream",
     "text": [
      "  4%|▍         | 38/1000 [04:30<2:08:14,  8.00s/it]"
     ]
    },
    {
     "name": "stdout",
     "output_type": "stream",
     "text": [
      "Error processing prompt 38: Could not create `Blob`, expected `Blob`, `dict` or an `Image` type(`PIL.Image.Image` or `IPython.display.Image`).\n",
      "Got a: <class 'float'>\n",
      "Value: nan\n"
     ]
    },
    {
     "name": "stderr",
     "output_type": "stream",
     "text": [
      " 35%|███▍      | 349/1000 [42:08<1:05:17,  6.02s/it]"
     ]
    },
    {
     "name": "stdout",
     "output_type": "stream",
     "text": [
      "Error processing prompt 349: Invalid operation: The `response.text` quick accessor requires the response to contain a valid `Part`, but none were returned. The candidate's [finish_reason](https://ai.google.dev/api/generate-content#finishreason) is 4. Meaning that the model was reciting from copyrighted material.\n"
     ]
    },
    {
     "name": "stderr",
     "output_type": "stream",
     "text": [
      " 40%|███▉      | 397/1000 [48:05<1:33:50,  9.34s/it]"
     ]
    },
    {
     "name": "stdout",
     "output_type": "stream",
     "text": [
      "Error processing prompt 397: Could not create `Blob`, expected `Blob`, `dict` or an `Image` type(`PIL.Image.Image` or `IPython.display.Image`).\n",
      "Got a: <class 'float'>\n",
      "Value: nan\n"
     ]
    },
    {
     "name": "stderr",
     "output_type": "stream",
     "text": [
      " 41%|████▏     | 413/1000 [49:31<58:29,  5.98s/it]  "
     ]
    },
    {
     "name": "stdout",
     "output_type": "stream",
     "text": [
      "Error processing prompt 413: Could not create `Blob`, expected `Blob`, `dict` or an `Image` type(`PIL.Image.Image` or `IPython.display.Image`).\n",
      "Got a: <class 'float'>\n",
      "Value: nan\n"
     ]
    },
    {
     "name": "stderr",
     "output_type": "stream",
     "text": [
      " 48%|████▊     | 480/1000 [58:59<1:44:21, 12.04s/it]"
     ]
    },
    {
     "name": "stdout",
     "output_type": "stream",
     "text": [
      "Error processing prompt 480: Could not create `Blob`, expected `Blob`, `dict` or an `Image` type(`PIL.Image.Image` or `IPython.display.Image`).\n",
      "Got a: <class 'float'>\n",
      "Value: nan\n"
     ]
    },
    {
     "name": "stderr",
     "output_type": "stream",
     "text": [
      " 52%|█████▏    | 517/1000 [1:04:00<1:04:32,  8.02s/it]"
     ]
    },
    {
     "name": "stdout",
     "output_type": "stream",
     "text": [
      "Error processing prompt 517: Could not create `Blob`, expected `Blob`, `dict` or an `Image` type(`PIL.Image.Image` or `IPython.display.Image`).\n",
      "Got a: <class 'float'>\n",
      "Value: nan\n"
     ]
    },
    {
     "name": "stderr",
     "output_type": "stream",
     "text": [
      " 80%|████████  | 804/1000 [1:42:28<36:53, 11.30s/it]  "
     ]
    },
    {
     "name": "stdout",
     "output_type": "stream",
     "text": [
      "Error processing prompt 804: Could not create `Blob`, expected `Blob`, `dict` or an `Image` type(`PIL.Image.Image` or `IPython.display.Image`).\n",
      "Got a: <class 'float'>\n",
      "Value: nan\n"
     ]
    },
    {
     "name": "stderr",
     "output_type": "stream",
     "text": [
      " 87%|████████▋ | 872/1000 [1:50:37<21:18,  9.98s/it]"
     ]
    },
    {
     "name": "stdout",
     "output_type": "stream",
     "text": [
      "Error processing prompt 872: Could not create `Blob`, expected `Blob`, `dict` or an `Image` type(`PIL.Image.Image` or `IPython.display.Image`).\n",
      "Got a: <class 'float'>\n",
      "Value: nan\n"
     ]
    },
    {
     "name": "stderr",
     "output_type": "stream",
     "text": [
      "100%|██████████| 1000/1000 [2:07:21<00:00,  7.64s/it]\n"
     ]
    },
    {
     "name": "stdout",
     "output_type": "stream",
     "text": [
      "\n",
      "Responses saved to ../data/FineTunedResponses/responses_to_fine_tuned.csv\n",
      "\n",
      "Sample responses to fine-tuned prompts:\n",
      "                                   fine_tuned_prompt  \\\n",
      "0  Here are two examples of one-pot pasta recipes...   \n",
      "1  Here is an example of blog content and the cor...   \n",
      "2  You are a Java programming assistant. I need y...   \n",
      "\n",
      "                              response_to_fine_tuned  \n",
      "0  Okay, let's analyze the strengths and weakness...  \n",
      "1  Okay, let's break down the likely user intent ...  \n",
      "2  ```java\\npublic class MergeSort {\\n\\n    publi...  \n"
     ]
    }
   ],
   "source": [
    "model = genai.GenerativeModel('gemini-2.0-flash')\n",
    "def get_response(prompt):\n",
    "    response = model.generate_content(prompt)\n",
    "    return response.text\n",
    "\n",
    "\n",
    "# Rename fine_tuned_response to fine_tuned_prompt in the all_prompts.csv file\n",
    "import pandas as pd\n",
    "import time\n",
    "from tqdm import tqdm\n",
    "\n",
    "# Load the prompts from the CSV file\n",
    "prompts_df = pd.read_csv(\"../data/FineTunedResponses/all_prompts.csv\")\n",
    "\n",
    "# Rename the column\n",
    "prompts_df = prompts_df.rename(columns={'fine_tuned_response': 'fine_tuned_prompt'})\n",
    "\n",
    "# Create a new column to store the responses\n",
    "prompts_df['response_to_fine_tuned'] = None\n",
    "\n",
    "# Process each prompt and get a response\n",
    "print(\"\\nProcessing fine-tuned prompts:\")\n",
    "for i in tqdm(range(len(prompts_df))):\n",
    "    try:\n",
    "        # Get the response for the fine-tuned prompt\n",
    "        response = get_response(prompts_df.loc[i, 'fine_tuned_prompt'])\n",
    "        prompts_df.loc[i, 'response_to_fine_tuned'] = response\n",
    "        \n",
    "        # Add a small delay to avoid rate limiting\n",
    "        time.sleep(0.5)\n",
    "    except Exception as e:\n",
    "        print(f\"Error processing prompt {i}: {e}\")\n",
    "        prompts_df.loc[i, 'response_to_fine_tuned'] = f\"Error: {str(e)}\"\n",
    "        \n",
    "        # Wait a bit longer if there's an error\n",
    "        time.sleep(2)\n",
    "\n",
    "# Save the results to a new CSV file\n",
    "prompts_df.to_csv(\"../data/FineTunedResponses/responses_to_fine_tuned.csv\", index=False)\n",
    "print(\"\\nResponses saved to ../data/FineTunedResponses/responses_to_fine_tuned.csv\")\n",
    "\n",
    "# Display a few examples of the responses\n",
    "print(\"\\nSample responses to fine-tuned prompts:\")\n",
    "print(prompts_df[['fine_tuned_prompt', 'response_to_fine_tuned']].head(3))\n",
    "\n",
    "\n",
    "\n"
   ]
  },
  {
   "cell_type": "code",
   "execution_count": 15,
   "metadata": {},
   "outputs": [
    {
     "name": "stdout",
     "output_type": "stream",
     "text": [
      "\n",
      "Processing Flash2.0 prompts:\n"
     ]
    },
    {
     "name": "stderr",
     "output_type": "stream",
     "text": [
      "  2%|▏         | 16/1000 [01:26<46:44,  2.85s/it]  "
     ]
    },
    {
     "name": "stdout",
     "output_type": "stream",
     "text": [
      "Error processing prompt 16: Invalid operation: The `response.text` quick accessor requires the response to contain a valid `Part`, but none were returned. The candidate's [finish_reason](https://ai.google.dev/api/generate-content#finishreason) is 4. Meaning that the model was reciting from copyrighted material.\n"
     ]
    },
    {
     "name": "stderr",
     "output_type": "stream",
     "text": [
      " 33%|███▎      | 331/1000 [39:14<1:08:08,  6.11s/it]"
     ]
    },
    {
     "name": "stdout",
     "output_type": "stream",
     "text": [
      "Error processing prompt 331: Invalid operation: The `response.text` quick accessor requires the response to contain a valid `Part`, but none were returned. The candidate's [finish_reason](https://ai.google.dev/api/generate-content#finishreason) is 4. Meaning that the model was reciting from copyrighted material.\n"
     ]
    },
    {
     "name": "stderr",
     "output_type": "stream",
     "text": [
      " 70%|██████▉   | 696/1000 [1:24:37<25:44,  5.08s/it]  "
     ]
    },
    {
     "name": "stdout",
     "output_type": "stream",
     "text": [
      "Error processing prompt 696: Invalid operation: The `response.text` quick accessor requires the response to contain a valid `Part`, but none were returned. The candidate's [finish_reason](https://ai.google.dev/api/generate-content#finishreason) is 4. Meaning that the model was reciting from copyrighted material.\n"
     ]
    },
    {
     "name": "stderr",
     "output_type": "stream",
     "text": [
      " 94%|█████████▍| 943/1000 [1:54:23<09:26,  9.94s/it]  "
     ]
    },
    {
     "name": "stdout",
     "output_type": "stream",
     "text": [
      "Error processing prompt 943: Invalid operation: The `response.text` quick accessor requires the response to contain a valid `Part`, but none were returned. The candidate's [finish_reason](https://ai.google.dev/api/generate-content#finishreason) is 4. Meaning that the model was reciting from copyrighted material.\n"
     ]
    },
    {
     "name": "stderr",
     "output_type": "stream",
     "text": [
      "100%|██████████| 1000/1000 [2:01:53<00:00,  7.31s/it]\n"
     ]
    },
    {
     "name": "stdout",
     "output_type": "stream",
     "text": [
      "\n",
      "Responses saved to ../data/Flash2.0Responses/responses_to_base.csv\n",
      "\n",
      "Sample responses to Flash2.0 prompts:\n",
      "                                     original_prompt  \\\n",
      "0   One-pot vegetarian pasta recipes for busy nights   \n",
      "1  We have the following blog content... what is ...   \n",
      "2  how o sort element using merge sort technique ...   \n",
      "\n",
      "                                    response_to_base  \n",
      "0  Okay, here are some delicious and easy one-pot...  \n",
      "1  Okay, after analyzing the blog content, here's...  \n",
      "2  ```java\\npublic class MergeSort {\\n\\n    publi...  \n"
     ]
    }
   ],
   "source": [
    "model = genai.GenerativeModel('gemini-2.0-flash')\n",
    "def get_response(prompt):\n",
    "    response = model.generate_content(prompt)\n",
    "    return response.text\n",
    "\n",
    "\n",
    "# Process the prompts from Flash2.0Responses\n",
    "import pandas as pd\n",
    "import time\n",
    "from tqdm import tqdm\n",
    "\n",
    "# Load the prompts from the CSV file\n",
    "prompts_df = pd.read_csv(\"../data/Flash2.0Responses/all_prompts.csv\")\n",
    "\n",
    "# Rename the columns to match our expected format\n",
    "prompts_df = prompts_df.rename(columns={'base_response': 'base_prompt'})\n",
    "\n",
    "# Create a new column to store the responses\n",
    "prompts_df['response_to_base'] = None\n",
    "\n",
    "# Process each prompt and get a response\n",
    "print(\"\\nProcessing Flash2.0 prompts:\")\n",
    "for i in tqdm(range(len(prompts_df))):\n",
    "    try:\n",
    "        # Get the response for the base prompt\n",
    "        response = get_response(prompts_df.loc[i, 'original_prompt'])\n",
    "        prompts_df.loc[i, 'response_to_base'] = response\n",
    "        \n",
    "        # Add a small delay to avoid rate limiting\n",
    "        time.sleep(0.5)\n",
    "    except Exception as e:\n",
    "        print(f\"Error processing prompt {i}: {e}\")\n",
    "        prompts_df.loc[i, 'response_to_base'] = f\"Error: {str(e)}\"\n",
    "        \n",
    "        # Wait a bit longer if there's an error\n",
    "        time.sleep(2)\n",
    "\n",
    "# Save the results to a new CSV file\n",
    "prompts_df.to_csv(\"../data/Flash2.0Responses/responses_to_base.csv\", index=False)\n",
    "print(\"\\nResponses saved to ../data/Flash2.0Responses/responses_to_base.csv\")\n",
    "\n",
    "# Display a few examples of the responses\n",
    "print(\"\\nSample responses to Flash2.0 prompts:\")\n",
    "print(prompts_df[['original_prompt', 'response_to_base']].head(3))\n",
    "\n",
    "\n",
    "\n"
   ]
  },
  {
   "cell_type": "code",
   "execution_count": null,
   "metadata": {},
   "outputs": [],
   "source": []
  },
  {
   "cell_type": "code",
   "execution_count": 16,
   "metadata": {},
   "outputs": [
    {
     "name": "stdout",
     "output_type": "stream",
     "text": [
      "\n",
      "Processing ShareGPT prompts:\n"
     ]
    },
    {
     "name": "stderr",
     "output_type": "stream",
     "text": [
      " 40%|███▉      | 399/1000 [45:54<47:03,  4.70s/it]  "
     ]
    },
    {
     "name": "stdout",
     "output_type": "stream",
     "text": [
      "Error processing prompt 399: Invalid operation: The `response.text` quick accessor requires the response to contain a valid `Part`, but none were returned. The candidate's [finish_reason](https://ai.google.dev/api/generate-content#finishreason) is 4. Meaning that the model was reciting from copyrighted material.\n"
     ]
    },
    {
     "name": "stderr",
     "output_type": "stream",
     "text": [
      " 99%|█████████▉| 988/1000 [1:57:00<01:39,  8.28s/it]  "
     ]
    },
    {
     "name": "stdout",
     "output_type": "stream",
     "text": [
      "Error processing prompt 988: Invalid operation: The `response.text` quick accessor requires the response to contain a valid `Part`, but none were returned. The candidate's [finish_reason](https://ai.google.dev/api/generate-content#finishreason) is 4. Meaning that the model was reciting from copyrighted material.\n"
     ]
    },
    {
     "name": "stderr",
     "output_type": "stream",
     "text": [
      "100%|██████████| 1000/1000 [1:59:03<00:00,  7.14s/it]\n"
     ]
    },
    {
     "name": "stdout",
     "output_type": "stream",
     "text": [
      "\n",
      "Responses saved to ../data/ShareGPT/og_responses.csv\n",
      "\n",
      "Sample responses to ShareGPT prompts:\n",
      "                                     original_prompt  \\\n",
      "0   One-pot vegetarian pasta recipes for busy nights   \n",
      "1  We have the following blog content... what is ...   \n",
      "2  how o sort element using merge sort technique ...   \n",
      "\n",
      "                                         og_response  \n",
      "0  Okay, here are some one-pot vegetarian pasta r...  \n",
      "1  Okay, let's break down the likely user intent ...  \n",
      "2  ```java\\npublic class MergeSort {\\n\\n    publi...  \n"
     ]
    }
   ],
   "source": [
    "model = genai.GenerativeModel('gemini-2.0-flash')\n",
    "def get_response(prompt):\n",
    "    response = model.generate_content(prompt)\n",
    "    return response.text\n",
    "\n",
    "\n",
    "# Process the prompts from ShareGPT\n",
    "import pandas as pd\n",
    "import time\n",
    "from tqdm import tqdm\n",
    "\n",
    "# Load the prompts from the CSV file\n",
    "prompts_df = pd.read_csv(\"../data/ShareGPT/separated_prompts_clean.csv\")\n",
    "\n",
    "# Create a new column to store the responses\n",
    "prompts_df['og_response'] = None\n",
    "\n",
    "# Process each prompt and get a response\n",
    "print(\"\\nProcessing ShareGPT prompts:\")\n",
    "for i in tqdm(range(len(prompts_df))):\n",
    "    try:\n",
    "        # Get the response for the prompt\n",
    "        response = get_response(prompts_df.loc[i, 'original_prompt'])\n",
    "        prompts_df.loc[i, 'og_response'] = response\n",
    "        \n",
    "        # Add a small delay to avoid rate limiting\n",
    "        time.sleep(0.5)\n",
    "    except Exception as e:\n",
    "        print(f\"Error processing prompt {i}: {e}\")\n",
    "        prompts_df.loc[i, 'og_response'] = f\"Error: {str(e)}\"\n",
    "        \n",
    "        # Wait a bit longer if there's an error\n",
    "        time.sleep(2)\n",
    "\n",
    "# Save the results to a new CSV file\n",
    "prompts_df.to_csv(\"../data/ShareGPT/og_responses.csv\", index=False)\n",
    "print(\"\\nResponses saved to ../data/ShareGPT/og_responses.csv\")\n",
    "\n",
    "# Display a few examples of the responses\n",
    "print(\"\\nSample responses to ShareGPT prompts:\")\n",
    "print(prompts_df[['original_prompt', 'og_response']].head(3))"
   ]
  },
  {
   "cell_type": "code",
   "execution_count": null,
   "metadata": {},
   "outputs": [],
   "source": []
  }
 ],
 "metadata": {
  "kernelspec": {
   "display_name": ".venv",
   "language": "python",
   "name": "python3"
  },
  "language_info": {
   "codemirror_mode": {
    "name": "ipython",
    "version": 3
   },
   "file_extension": ".py",
   "mimetype": "text/x-python",
   "name": "python",
   "nbconvert_exporter": "python",
   "pygments_lexer": "ipython3",
   "version": "3.12.10"
  }
 },
 "nbformat": 4,
 "nbformat_minor": 2
}
